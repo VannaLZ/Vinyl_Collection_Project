{
 "cells": [
  {
   "cell_type": "code",
   "execution_count": 21,
   "metadata": {},
   "outputs": [],
   "source": [
    "import os\n",
    "#This line imports the 'os' module, which provides a way of interacting \n",
    "# with the operating system in a portable way. \n",
    "# It allows Python code to access environment variables, files, directories, \n",
    "# and other operating system resources.\n",
    "import requests\n",
    "#This line imports the requests module, which is a popular library in Python \n",
    "# for making HTTP requests. It provides convenient functions and methods \n",
    "# for sending HTTP requests, handling responses, and working with APIs.\n",
    "import json\n",
    "#This line imports the json module, which provides functions for working \n",
    "# with JSON data. It allows you to encode Python objects into JSON strings \n",
    "# and decode JSON strings into Python objects.\n",
    "\n",
    "from dotenv import load_dotenv\n",
    "load_dotenv()\n",
    "#This line imports the load_dotenv function from the dotenv module. \n",
    "# The dotenv module is a Python library that helps load environment \n",
    "# variables from a .env file into the environment.\n",
    "\n",
    "import pandas as pd"
   ]
  },
  {
   "cell_type": "code",
   "execution_count": 22,
   "metadata": {},
   "outputs": [],
   "source": [
    "#By using os.getenv() to retrieve environment variables, you can access sensitive information,\n",
    "# such as usernames and API tokens, without hard-coding them directly into your code. \n",
    "# This allows for greater flexibility and security, as environment variables can be managed separately \n",
    "# from the code and can be easily updated or changed without modifying the code itself.\n",
    "\n",
    "username = os.getenv(\"username\")\n",
    "api_token = os.getenv(\"api_token\")"
   ]
  },
  {
   "cell_type": "code",
   "execution_count": 23,
   "metadata": {},
   "outputs": [
    {
     "name": "stdout",
     "output_type": "stream",
     "text": [
      "Folder IDs: [0, 5802431, 5862627, 5802434, 5862630, 5784695, 5869995, 5784860, 5784662, 5862621, 1]\n",
      "Rate Limit: 60\n",
      "Rate Limit Used: 0\n",
      "Rate Limit Remaining: 60\n"
     ]
    }
   ],
   "source": [
    "# This line constructs the URL to make a GET request to the Discogs API. \n",
    "# It includes the username parameter to specify the user whose collection we want to retrieve.\n",
    "url = f\"https://api.discogs.com/users/{username}/collection/folders\"\n",
    "\n",
    "# This block defines the necessary headers for the GET request. It includes the Accept, User-Agent,\n",
    "# and Authorization headers. These headers specify the desired response format, provide information \n",
    "# about the user agent making the request, and authenticate the request using the API token.\n",
    "\n",
    "headers = {\n",
    "    \"Accept\": \"application/vnd.discogs.v2+json\",\n",
    "    #The Accept header specifies the media types, also known as MIME (Multipurpose Internet Mail Extensions) \n",
    "    # types, that the client is capable of processing. These media types are listed in the main page in \n",
    "    # https://www.discogs.com/developers/\n",
    "    \"User-Agent\": \"VannaDiscogsCollection/1.0\",\n",
    "    # User-Agent is a piece of information that helps servers identify the software or device making a request,\n",
    "    # enabling them to provide a tailored response or customize the interaction accordingly.\n",
    "    \"Authorization\": f\"Discogs token={api_token}\"\n",
    "}\n",
    "\n",
    "# This line sends the GET request to the Discogs API using the URL and headers defined above. \n",
    "# It retrieves the response from the API.\n",
    "response = requests.get(url, headers=headers)\n",
    "\n",
    "# This conditional statement checks if the response status code is 200, \n",
    "# which indicates a successful request.\n",
    "if response.status_code == 200:\n",
    "    #This line extracts the JSON data from the response and converts it into a \n",
    "    # Python dictionary format, storing it in the data variable.\n",
    "    data = response.json()\n",
    "    # This line retrieves the 'folders' key from the data dictionary, \n",
    "    # which contains a list of folders in the user's collection.\n",
    "    folders = data['folders']\n",
    "    # This line creates a list comprehension to extract the 'id' value \n",
    "    # from each folder in the folders list, storing them in the folder_ids list.\n",
    "    folder_ids = [folder['id'] for folder in folders]\n",
    "    print(\"Folder IDs:\", folder_ids)\n",
    "else:\n",
    "    print(\"Request failed with status code:\", response.status_code)\n",
    "    \n",
    "# Retrieve the rate limit headers\n",
    "rate_limit = response.headers.get('X-Discogs-Ratelimit')\n",
    "rate_limit_used = response.headers.get('X-Discogs-Ratelimit-Used')\n",
    "rate_limit_remaining = response.headers.get('X-Discogs-Ratelimit-Remaining')\n",
    "\n",
    "# Print the rate limit information\n",
    "print(\"Rate Limit:\", rate_limit)\n",
    "print(\"Rate Limit Used:\", rate_limit_used)\n",
    "print(\"Rate Limit Remaining:\", rate_limit_remaining)"
   ]
  },
  {
   "cell_type": "code",
   "execution_count": 24,
   "metadata": {},
   "outputs": [
    {
     "name": "stdout",
     "output_type": "stream",
     "text": [
      "JSON data saved to data.json\n",
      "Rate Limit: 60\n",
      "Rate Limit Used: 1\n",
      "Rate Limit Remaining: 59\n"
     ]
    }
   ],
   "source": [
    "# Folder ID\n",
    "folder_id = folder_ids[0]\n",
    "\n",
    "# Construct the request URL\n",
    "url = f\"https://api.discogs.com/users/{username}/collection/folders/{folder_id}/releases\"\n",
    "\n",
    "# Set the necessary headers\n",
    "headers = {\n",
    "    \"Accept\": \"application/vnd.discogs.v2+json\",\n",
    "    \"User-Agent\": \"VannaDiscogsCollection/1.0\",\n",
    "    \"Authorization\": f\"Discogs token={api_token}\"\n",
    "}\n",
    "\n",
    "# Send the GET request\n",
    "response = requests.get(url, headers=headers)\n",
    "\n",
    "# Handle the response\n",
    "if response.status_code == 200:\n",
    "    data = response.json()\n",
    "\n",
    "    # Save the JSON data to a file\n",
    "    with open(\"data.json\", \"w\") as file:\n",
    "        json.dump(data, file, indent=4)\n",
    "\n",
    "    print(\"JSON data saved to data.json\")\n",
    "\n",
    "else:\n",
    "    print(\"Request failed with status code:\", response.status_code)\n",
    "    \n",
    "\n",
    "# Retrieve the rate limit headers\n",
    "rate_limit = response.headers.get('X-Discogs-Ratelimit')\n",
    "rate_limit_used = response.headers.get('X-Discogs-Ratelimit-Used')\n",
    "rate_limit_remaining = response.headers.get('X-Discogs-Ratelimit-Remaining')\n",
    "\n",
    "# Print the rate limit information\n",
    "print(\"Rate Limit:\", rate_limit)\n",
    "print(\"Rate Limit Used:\", rate_limit_used)\n",
    "print(\"Rate Limit Remaining:\", rate_limit_remaining)\n"
   ]
  },
  {
   "cell_type": "code",
   "execution_count": 25,
   "metadata": {},
   "outputs": [],
   "source": [
    "# Load the JSON data from the file\n",
    "with open('data.json', 'r') as file:\n",
    "    json_data = json.load(file)"
   ]
  },
  {
   "cell_type": "code",
   "execution_count": 26,
   "metadata": {},
   "outputs": [
    {
     "name": "stdout",
     "output_type": "stream",
     "text": [
      "pagination\n",
      "releases\n"
     ]
    }
   ],
   "source": [
    "# Get the keys of the dictionary\n",
    "keys = json_data.keys()\n",
    "\n",
    "# Print the keys\n",
    "for key in keys:\n",
    "    print(key)"
   ]
  }
 ],
 "metadata": {
  "kernelspec": {
   "display_name": "Python 3.9.7 ('base')",
   "language": "python",
   "name": "python3"
  },
  "language_info": {
   "codemirror_mode": {
    "name": "ipython",
    "version": 3
   },
   "file_extension": ".py",
   "mimetype": "text/x-python",
   "name": "python",
   "nbconvert_exporter": "python",
   "pygments_lexer": "ipython3",
   "version": "3.9.7"
  },
  "orig_nbformat": 4,
  "vscode": {
   "interpreter": {
    "hash": "651c3b7b3f466eb030aa737f279c846be4db9cba49a2f229278cab5e41121ed5"
   }
  }
 },
 "nbformat": 4,
 "nbformat_minor": 2
}

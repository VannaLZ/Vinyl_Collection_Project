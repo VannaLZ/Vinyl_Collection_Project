{
 "cells": [
  {
   "cell_type": "code",
   "execution_count": 41,
   "metadata": {},
   "outputs": [],
   "source": [
    "import pandas as pd\n",
    "import numpy as np\n",
    "import re"
   ]
  },
  {
   "cell_type": "code",
   "execution_count": 42,
   "metadata": {},
   "outputs": [],
   "source": [
    "df = pd.read_csv('../Discogs_Exports/WannaCollection_40.csv')"
   ]
  },
  {
   "cell_type": "code",
   "execution_count": 43,
   "metadata": {},
   "outputs": [
    {
     "name": "stdout",
     "output_type": "stream",
     "text": [
      "Unique values in column 'Catalog_ID': ['350203' '88.122-l' '200.852-I, 200852-I' '26396-I, 26.396-I'\n",
      " '10 C 066-060.792, 10C066-060.792' '790 522-1' 'HATS 421-248' 'CBS 26533'\n",
      " 'CBS 450259 1' 'CBS 460270 1' 'LPX 20' '63 07 503' 'CDL 1403'\n",
      " '3 C062 - 04096, 3C 062-04096' 'PC2 36183, 36183' '3C 064-18277'\n",
      " '3C 064-18285' '3C 064-94519' '3C 064-97176, 3 C064-97176'\n",
      " '88697 74517 1' 'PL 409' '3C 054-04299' '3C 064-05249'\n",
      " '3C 064-98434, 3C 064-98 434' 'JETLX 500' 'MAL 02, mal 02' '86.932-I'\n",
      " 'JS-057' 'DZSLN 55155' 'DZSLN 55666' 'DZSLN 55676' '19439826361'\n",
      " 'GL 37160 ' 'NL 33153' '10 C 176-06581/2' 'SMRL 6209' 'LL-209 982'\n",
      " '87.541-I , 87541-I ' 'I - 204.500, I·204 500' 'V 2640, 210 707']\n",
      "Unique values in column 'Artist': ['Billie Holiday' 'Supertramp' 'Emerson, Lake & Palmer'\n",
      " 'Angelo Branduardi' 'The Alan Parsons Project' 'Yes' 'Claudio Baglioni'\n",
      " 'Spandau Ballet' 'Bruce Springsteen' 'New Trolls' 'Procol Harum'\n",
      " 'Pink Floyd' 'Pino Daniele' 'Franco Battiato' 'Queen' 'Jimi Hendrix'\n",
      " 'Electric Light Orchestra' 'Premiata Forneria Marconi' 'Mel Lewis'\n",
      " 'Mina (3)' 'Orchestre Pro Arte De Munich / Kurt Redel' 'Various'\n",
      " 'The Shadows' 'Edoardo Bennato' 'Mike Oldfield']\n",
      "Unique values in column 'Title': ['Lady In Satin' 'Crime Of The Century' 'In Concert' 'Highdown Fair'\n",
      " 'Pyramid' 'Big Generator' 'Going For The One' 'La Vita È Adesso'\n",
      " 'Through The Barricades' 'Tunnel Of Love' 'UT'\n",
      " 'Live - In Concert With The Edmonton Symphony Orchestra' 'True = Verdad'\n",
      " 'Soundtrack From The Film \"More\"' 'The Wall' 'Terra Mia'\n",
      " \"L'Era Del Cinghiale Bianco\" 'Queen' 'A Night At The Opera' 'Blues'\n",
      " 'Senza Orario Senza Bandiera' 'Masters Of Rock'\n",
      " 'The Dark Side Of The Moon' 'Animals' 'Discovery' 'Concerto Grosso N° 2'\n",
      " 'Photos Of Ghosts' 'Live In Montreux' 'Per Un Amico' \"L'Isola Di Niente\"\n",
      " 'Live In U.S.A.' 'Cassiopea (Italian Songbook)'\n",
      " \"Il Canone Di Pachelbel, Il Largo Di Handel, L'Aria Di Bach (E Altre Loro Celebri Composizioni)\"\n",
      " 'I Supergruppi Vol.1' '20 Golden Greats = 20 Grandes Exitos'\n",
      " 'Burattino Senza Fili' 'Earth Moving' 'Tubular Bells ' 'Five Miles Out'\n",
      " 'Amarok']\n",
      "Unique values in column 'Label': ['20th Century Masterworks' 'A&M Records' 'Ariola, Ariola'\n",
      " 'Arista, Arista' 'ATCO Records' 'Atlantic' 'CBS' 'Cetra' 'Chrysalis'\n",
      " 'Columbia, Columbia' 'EMI' 'EMI, EMI'\n",
      " 'Experience Hendrix, Legacy, Sony Music' 'Fonit Cetra' 'Harvest'\n",
      " 'Harvest, Harvest' 'Jet Records' 'Magma (2), Magma (2)' 'Manticore'\n",
      " 'MPS Records, CFE' 'Numero Uno' 'PDU, Sony Music' 'RCA' 'Reflejo'\n",
      " 'Ricordi' 'Virgin' 'Virgin, Virgin']\n",
      "Unique values in column 'Format': ['LP, Ltd, RE, Pur' 'LP, Album' 'LP, Album, Gat' 'LP, Album, Dou'\n",
      " 'LP, Album, RE, Gat' 'LP, Album, Pos' 'LP, Album, Thi' '2xLP, Album'\n",
      " 'LP, Album, RE' '2xLP, Comp, RE, 180' 'LP, Comp' 'LP, Album, RP'\n",
      " 'LP, Album, Die' '2xLP, Comp, RM, Blu' '2xLP, Comp']\n",
      "Unique values in column 'Rating': [4 3 2 5]\n",
      "Unique values in column 'Released': [2020 1974 1980 1978 1987 1977 1985 1986 1972 1983    0 1979 1981 2017\n",
      " 1976 1973 1982 1989 1990]\n",
      "Unique values in column 'Release_id': [15999105  1460333  1690045  5307711  3963818  5422913  1924247  2109619\n",
      " 12055616  3116927  1464421  4584682 17934448  2654407  1203086  2677049\n",
      "   795991  5282336  7840437 10952821  2752826  1420373  3329897  1508896\n",
      "  1284470  1453209   746125  5714116  1450195   409907 12992999 16276066\n",
      " 12902788  5506737  3863468   839987  1211536  6168450  1777229   552362]\n",
      "Unique values in column 'Collection_Folder': ['Original Collection' '2023 Second Hand' '2022 Second Hand'\n",
      " 'Father Collection' '2021 Second Hand']\n",
      "Unique values in column 'Date_Added': ['2023-04-24' '2023-04-20' '2023-04-25' '2023-04-26' '2023-04-21'\n",
      " '2023-04-23']\n",
      "Unique values in column 'Album_Type': ['Collection' 'Studio Album' 'Live' 'Conceptual' 'Studio Album\\n'\n",
      " 'Soundtrack' 'Tribute Album']\n",
      "Unique values in column 'Style': ['Jazz' 'Rock' 'Symphonic Rock' 'Soft Rock, Ballad'\n",
      " 'Pop Rock, Art Rock, Prog Rock, New Wave' 'Art Rock, Pop Rock'\n",
      " 'Prog Rock' 'Chanson, Ballad' 'Pop Rock, Synth-pop'\n",
      " 'Soft Rock, Pop Rock, Ballad' 'Classic Rock, Prog Rock, Symphonic Rock'\n",
      " 'Synth-pop, Ballad, Dance-pop' 'Psychedelic Rock, Prog Rock' 'Blues Rock'\n",
      " 'Pop Rock' 'Hard Rock, Heavy Metal, Progressive Rock'\n",
      " 'Hard Rock, Pop Rock, Prog Rock' 'Folk Rock, Pop Rock, Prog Rock'\n",
      " 'Psychedelic Rock, Classic Rock' 'Prog Rock, Symphonic Rock'\n",
      " 'Big Band, Jazz-Funk' 'Art Rock, Prog Rock'\n",
      " 'Symphonic Rock, Prog Rock, Classic Rock'\n",
      " 'Jazz-Rock, Classic Rock, Art Rock, Prog Rock, Fusion' 'Chanson, Vocal'\n",
      " 'Classical, Baroque' 'Pop Rock, Prog Rock' 'Instruments'\n",
      " 'Rock & Roll, Pop Rock' 'Synth-pop, Ambient']\n",
      "Unique values in column 'Genre': ['Jazz' 'Art Rock, Prog Rock, Pop Rock' 'Rock' 'Rock, Pop' 'Pop'\n",
      " 'Electronic, Pop' 'Rock, Stage & Screen' 'Rock, Blues, Pop' 'Rock, Blues'\n",
      " 'Jazz, Rock' 'Classical' 'Pop, rock'\n",
      " 'Instrumental rock, Progrock, Experimental rock, World']\n",
      "Unique values in column 'Recorded': ['Unknown'\n",
      " 'Trident Studio\\nRamport Studio\\nScorpio Studio\\nLondon, England, UK'\n",
      " '26 August 1977,\\nOlympic Stadium, \\nMontreal, Quebec, Canada'\n",
      " 'Fonit-Cetra Studios\\nMilan, Lombardia, Italy'\n",
      " 'Abbey Road Studios\\nLondon, England, UK'\n",
      " 'Lark Recording Studios\\nCarimate, lombardia, Italy\\nSARM East\\nSARM West\\nAIR Studios\\nLondon, England, UK\\nSouthcombe Studios\\nWestlake Studios\\nSunset Sound Studios\\nLos Angeles, California, USA'\n",
      " 'Mountain Studios, Montreux, Switzerland'\n",
      " 'The Manor\\nThe Town House\\nAbbey Road Studios\\nLondon, England, UK'\n",
      " 'Musicland\\nMunich, Bavaria, West Germany\\nMiraval\\nCorrens, Provence-Alpes-Costa Azul, France'\n",
      " 'A&M Studios \\nLos Angeles, California, USA'\n",
      " 'Sala di registrazioni Fonit-Cetra\\nMilano, Lombardia, Italy'\n",
      " '18 November 1971\\nRecorded live at the Jubilee Auditorium\\nEdmonton, Alberta, Canada'\n",
      " 'Red Bus\\nLondon, England, UK\\nCompass Point\\nNassau, New Providence, The Bahamas'\n",
      " 'Pye\\nLondon, England, UK'\n",
      " 'Britannia Row\\nLondon, England, UK\\nSuper Bear\\nNice, France\\nMiraval (Correns)\\n30th Street\\nNew York, New York, USA\\nProducers Workshop\\nLos Angeles\\nCherokee\\nHollywood)'\n",
      " 'Studio Quattro 1 \\nRoma, Lazio, Italy'\n",
      " 'Studio Radius\\nMilano, Lombardia, Italia'\n",
      " 'De Lane Lea\\nTrident\\nLondon, England UK'\n",
      " 'Sarm East Studios\\nRoundhouse Studios\\nOlympic Studios\\nScorpio Studios\\nLansdowne Studios\\nLondon, England, UK\\nRockfield Studios\\nMonmouth, Wales, UK.\\n'\n",
      " '1966–1970' 'Idea Recording\\nMilano, Lombardia, Italy' ' Unknown'\n",
      " 'Abbey Road Studios\\nLondon, England, UK\\n'\n",
      " 'Britannia Row Studios\\nLondon, England, UK\\n'\n",
      " 'Musicland Studios\\nMunich, Bavaria, Germany'\n",
      " 'Fonit-Cetra Studios\\nMilano, Lombardia, Italy\\nStudio G\\nGenova, Liguria, Italy'\n",
      " 'Command Studios\\nLondon, England, UK\\nFonorama Studios\\nMilano, Lombardia, Italy'\n",
      " 'Fonorama C.A.R. Studios\\nMilano, Lombardia, Italy'\n",
      " 'Advision Studios\\nLondon, England, UK\\nFonorama Studios\\nMilano, Lombardia, Italy'\n",
      " '22 August 1974\\nRecorded at Convenction Hall, Toronto University, Canada'\n",
      " 'Munich, Baveria, West Germany' 'Ricordi\\nMilano, Lombardia, Italia'\n",
      " 'Roughwood Studio\\nBuckinghamshire, England, UK'\n",
      " 'The Manor\\nShipton-on-Cherwell, Oxfordshire, England, UK'\n",
      " 'Tilehouse \\nDenham, Buckinghamshire, England, UK\\nThe Manor\\nShipton-on-Cherwell, Oxfordshire, England, UK'\n",
      " 'Roughwood Croft, \\n\\nChalfont St Giles and CTS Studios, London (choir)']\n",
      "Unique values in column 'Original_Released': [1958 1974 1979 1978 1987 1977 1985 1986 1972 1983 1969 1973 1975 1994\n",
      " 1968 1976 1980 2020 1989 1982 1990]\n",
      "Unique values in column 'Artist_City': ['Philadelphia' 'London' 'Cuggiono, Milan' 'Rome' 'Long Branch' 'Genova'\n",
      " 'Southend-on-Sea' 'Naples' 'Ionia (Catania)' 'Seattle' 'Birmingham'\n",
      " 'Milan' 'Buffalo' 'Milano' 'Busto Arsizio' 'Wroclaw' 'Unknown' 'Reading']\n",
      "Unique values in column 'Artist_Country': ['USA' 'UK' 'Italy' 'U.S.A.' 'England' 'Poland' 'Unknown']\n",
      "Unique values in column 'Artist_Region_State': ['Pennsylvania' 'England' 'Lombardia' 'Lazio' 'New Jersey' 'Liguria'\n",
      " 'Essex, England' 'UK' 'Campania' 'Sicilia' 'Washington' 'New York'\n",
      " 'Lower Silesian Voivodeship' 'Unknown' 'Berkshire, England']\n",
      "Unique values in column 'Purchased': ['Online' 'In-Store']\n",
      "Unique values in column 'Year_Purchased': ['2021' '2023' '2022' '1987' '1972' 'Unknown' '1979' '1988' '1978' '1974'\n",
      " '1980']\n",
      "Unique values in column 'Shop': ['Amazon' 'Discs Oldies' 'Mercado Dominical de Sant Antoni'\n",
      " 'Daily Records' 'Revolver Records SL' 'Daily Record' 'Unknown' 'Revolver'\n",
      " 'Discos 100' 'Revolver SL' '100 Discos' 'Vinil Vintage']\n",
      "Unique values in column 'Shop_City': ['Online' 'Valencia' 'Barcelona' 'Florence' 'Aprilia' 'Unknown' 'Rome'\n",
      " 'Gallarate']\n",
      "Unique values in column 'Shop_Region_State': ['Online' 'Valencian Community' 'Catalonia' 'Toscana' 'Lazio' 'Unknown'\n",
      " 'Lombardia']\n",
      "Unique values in column 'Shop_Country': ['Spain' 'Italy' 'Unknown' 'Italia']\n",
      "Unique values in column 'Years_Active': ['1930–1959' '1970–1988\\n1996–2002\\n2010–2012\\n2015' '1970-2010'\n",
      " '1974 - Presents' '1975–1990' '1968–1981\\n1983–2004\\n2008–present'\n",
      " '1968 – Presents' '1979–1990\\n2009–2019' '1964–present' '1967–present'\n",
      " '1967–1977\\n1991–2022' '1965–1994\\n2005\\n2007\\n2013–2014\\n2022'\n",
      " '1975 – 2015' '1965–2019' '1970–present' '1962–1970'\n",
      " '1967 – 1973\\n1975 – 1998'\n",
      " '1970–1983\\n1984–1986\\n2000–2001\\n2014–present' '1970-Present'\n",
      " '1954–1990' '1970 - Presents' '1958 - Presents' '1953 - Presents'\n",
      " 'Unknown'\n",
      " '1958–1968 \\n1969-1970\\n1973–1990\\n2004-2005 \\n2008-2010\\n2015 (one-off reunion: 2020)'\n",
      " '1966 – presents' '1967–2018']\n",
      "Unique values in column 'Group': ['No' 'Yes']\n",
      "Unique values in column 'Group_Members': [nan\n",
      " 'Rick Davies\\nRoger Hodgson\\nJohn Anthony Helliwell\\nDougie Thomson\\nBob Siebenberg'\n",
      " 'Keith Emerson, Greg Lake, Carl Palmer' 'Alan Parsons, Eric Woolfson'\n",
      " 'Jon Anderson\\nTrevor Rabin\\nTony Kaye\\nChris Squire\\nAlan White'\n",
      " 'Jon Anderson\\nSteve Howe\\nChris Squire\\nRick Wakeman\\nAlan White'\n",
      " 'Tony Hadley\\nGary Kemp\\nMartin Kemp\\nJohn Keeble\\nSteve Norman'\n",
      " 'Nico Di Palo\\nVittorio De Scalzi\\nMaurizio Salvi\\nFrank Laugelli (alias Frank Rhodes)\\nGianni Belleno'\n",
      " 'Chris Copping\\nAlan Cartwright\\nB. J. Wilson\\nDave Ball\\nGary Brooker\\nKeith Reid'\n",
      " 'ony Hadley\\nGary Kemp\\nMartin Kemp\\nJohn Keeble\\nSteve Norman'\n",
      " 'David Gilmour\\nNick Mason\\nRichard Wright\\nRoger Waters  '\n",
      " 'Roger Waters\\nDavid Gilmour\\nNick Mason\\nRichard Wright'\n",
      " 'Brian May\\nFreddy Mercury\\nJohn Deacon\\nJohn Taylor'\n",
      " 'Sir Brian May \\nFreddie Mercury\\nRoger Taylor\\nJohn Deacon'\n",
      " \"Vittorio De Scalzi\\nNico Di Palo\\nGiorgio D'Adamo\\nGianni Belleno\\nMauro Chiarugi\\n\"\n",
      " 'David Gilmour\\nNick Mason\\nRichard Wright\\nRoger Waters\\nSyd Barret'\n",
      " 'David Gilmour\\nNick Mason\\nRoger Waters\\nRichard Wright\\n'\n",
      " 'Jeff Lynne\\nBev Bevan\\nRichard Tandy\\nKelly Groucutt'\n",
      " \"Vittorio De Scalzi\\nNico Di Palo\\nGiorgio D'Adamo\\nGianni Belleno\\nRicky Belloni\"\n",
      " 'Mauro Pagani\\nFlavio Premoli\\nFranco Mussida\\nGiorgio Piazza\\nFranz Di Cioccio'\n",
      " 'Franco Mussida\\nFlavio Premoli\\nMauro Pagani\\nGiorgio Piazza\\nFranz Di Cioccio'\n",
      " 'Franco Mussida, Flavio Premoli, Mauro Pagani, Giorgio Piazza, Bernardo Lanzetti, Gregory Bloch, Walter Calloni, Roberto Gualdi'\n",
      " 'Flavio Premoli\\nMauro Pagani\\nFranco Mussida\\nPatrick Djivas\\nFranz Di Cioccio'\n",
      " 'conductor Kurt Redel\\nOrchestre Pro Arte De Munich'\n",
      " 'Hank Marvin\\nBruce Welch\\nBrian Bennett']\n",
      "Unique values in column 'Instrument(s)': ['Vocal - Billie Holiday\\nviolin and concertmaster - George Ockner\\nViolin - Emmanual Green,Harry Hoffman, Harry Katzmann, Leo Kruczek, Milton Lomask, Harry Meinikoff, David Newman, Samuel Rand, David Sarcer.\\nViola - Sid Brecher, Richard Dichler '\n",
      " 'Rick Davies – vocals, keyboards, harmonica\\nRoger Hodgson – vocals, guitar, pianos\\nJohn Anthony Helliwell – saxophones, clarinet, backing vocals\\nDougie Thomson – bass guitar\\nBob Siebenberg (credited as Bob C. Benberg) – drums, percussion'\n",
      " 'Keith Emerson: keyboards. Greg Lake: vocals, bass, guitar, producer. Carl Palmer:drums, percussion.'\n",
      " 'Violin, Guitar, Guitar [Piccolo Guitar], Lute, Recorder [Flute] – Angelo Branduardi\\n'\n",
      " 'David Paton – bass, vocals\\nStuart Elliott – drums, percussion\\nIan Bairnson – electric and acoustic guitars\\nEric Woolfson, Duncan Mackay – keyboards\\nDean Ford, Colin Blunstone, Lenny Zakatek, John Miles, Jack Harris – vocals\\nPhil Kenzie – saxophone solos '\n",
      " 'Jon Anderson – vocals\\nTrevor Rabin – vocals, acoustic and electric guitars, keyboards, string arrangements\\nTony Kaye – keyboards\\nChris Squire – bass guitar, backing vocals\\nAlan White – drums, percussion, backing vocals'\n",
      " 'Jon Anderson – lead vocals, harp\\nSteve Howe – steel guitar, acoustic and electric guitars, vachalia, pedal steel guitar, vocals\\nChris Squire – bass guitar, fretless bass, 8-string bass, vocals\\n'\n",
      " 'Backing Vocals – Claudio Baglioni'\n",
      " 'Bass – Martin Kemp\\nDrums – John Keeble\\nGuitar – Gary Kemp\\nSaxophone, Percussion – Steve Norman\\nVocals – Tony Hadley'\n",
      " 'Vocals, guitar, Effects [Sound] - Bruce Springsteen\\nOrgan – Danny Federici.\\nPercussion, Drums – Max Weinberg.\\nBass – Garry Tallent.\\nHarmonica – James Wood\\nOther [Roller Coaster] – Schiffer Family\\nSoloist, Guitar, Vocals – Nils Lofgren\\n'\n",
      " 'Bass – Frank Laugelli\\nDrums, Vocals – Gianni Belleno\\nElectric Guitar [Chitarra Leslie] – Vittorio Di Scalzi\\nGuitar, Lead Vocals – Nico Di Palo\\nPiano, Organ, Synthesizer [Eminent E Synthetizer] – Maurizio Salvi'\n",
      " 'Chris Copping – organ\\nAlan Cartwright – bass guitar\\nB. J. Wilson – drums\\nDave Ball – guitar\\nGary Brooker – piano and vocals\\nKeith Reid – lyrics'\n",
      " 'Bass Guitar - Roger Waters\\nKeyboards, Vocals - Richard Wright \\nGuitar, Vocals - David Gilmour\\nDrums - Nick Mason'\n",
      " 'Roger Waters – vocals, bass guitar, synthesizer, acoustic guitar,  electric guitar\\nDavid Gilmour – vocals, electric,and acoustic guitars, bass guitar,ARP Quadra synthesizers'\n",
      " 'Lyrics By, Music By, Arranged By, Classical Guitar, Acoustic Guitar, Electric Guitar, Mandola, Mandolin, Vocals – Pino Daniele'\n",
      " 'Bass – Julius Farmer\\nConductor, Violin – Giusto Pio\\nDrums, Percussion – Tullio De Piscopo\\nGuitar – Alberto Radius\\nKeyboards [Tastiere] – Antonio Ballista, Roberto Colombo\\nLyrics By, Music By – Franco Battiato'\n",
      " 'Bass Guitar - John Deacon\\nDrums, Percussion, Lead vocals, Backing Vocals - John Taylor\\nGuitars, Piano, Backing Vocals - Brian May\\nLead Vocals, Piano, Hammond Organ, Backing Vocals'\n",
      " 'Freddie Mercury: lead vocals, backing vocals, piano, jangle piano\\nBrian May: electric guitar, backing vocals, acoustic guitar), lead vocals, koto,  koto, harp, ukulele\\nRoger Taylor: drums, backing vocals, percussions, lead vocals- John Beacon: bass, elec'\n",
      " 'Guitar, Twelve-String Guitar, Vocals, Written-By – Jimi Hendrix\\n'\n",
      " \"Guitar, Keyboard, Vocals - Vittorio Di Scalzi\\nGuitar, Vocals - Nico Di Palo\\nBass - Giorgio D'Adamo\\nDrums, Percussions, Back Vocals - Gianni Belleno\\nKeyboards - Mauro Chiarugi\"\n",
      " 'Bass, Vocals – Roger Waters\\nDrums – Nick Mason\\nGuitar, Vocals – Syd Barrett\\nKeyboards, Vocals – Richard Wright\\nGuitar, Vocals – Syd Barrett (7 & 9)'\n",
      " 'Bass, Synthesizer [Vcs 3], Effects [Tape], Vocals, Lyrics By – Roger Waters\\nEffects [Tape], Percussion – Nick Mason\\nGuitar, Synthesizer [Vcs 3], Vocals – David Gilmour\\nKeyboards, Synthesizer [Vcs 3], Vocals – Richard Wright'\n",
      " 'Lead Vocals, Lead Guitar, Bass Guitar, Acoustic Guitar, Talk Box - David Gilmour\\nHammond organ, ARP string synthesizer, Fender Rhodes, Minimoog, Farfisa organ, piano, clavinet, EMS VCS 3, harmony vocals - Richard Wright '\n",
      " 'Jeff Lynne – lead vocals, guitars (electric, acoustic 12-string), vocoder, backing vocals, orchestral & choral arrangements, producer\\nBev Bevan – drums, percussion, backing vocals\\nRichard Tandy – piano, synthesizer, Wurlitzer electric piano, clavinet, le'\n",
      " 'Acoustic Guitar, Piano [Piano Fender], Flute, Keyboards [Sintorchestra, Brassman Crumar], Synthesizer [Arp Synthesizer], Vocals – Vittorio De Scalzi'\n",
      " 'Mauro Pagani – flauto, ottavino, violino, voce\\nFlavio Premoli – pianoforte, organo Hammond, mellotron, moog, voce\\nFranco Mussida – chitarra elettrica e chitarra acustica, voce\\nGiorgio Piazza – basso\\nFranz Di Cioccio – batteria, percussioni'\n",
      " 'Alto Saxophone, Soprano Saxophone, Flute, Clarinet – Dick Oats*, Steve Coleman\\nBacking Band – The Jazz Orchestra\\nBaritone Saxophone, Bass Clarinet – Gary Pribek\\nBass – John Lockwood\\nBass Trombone – Douglas Purviance*, Earl McIntyre\\nCoordinator [Serie/Pre'\n",
      " 'Acoustic Guitar, Twelve-String Guitar, Electric Guitar, Mandocello [Mandoloncello], Lead Vocals – Franco Mussida\\nBass, Vocals – Giorgio «Fico» Piazza\\nDrums, Percussion, Vocals – Franz Di Cioccio'\n",
      " 'Franco Mussida: guitars, lead vocals. Flavio Premoli: keyboards, lead vocals. Mauro Pagani: violin, flute, vocals. Patrick Djivas – bass, vocals. \\nFranz Di Cioccio: drums, percussion, vocals.'\n",
      " 'Flavio Premoli - tastiera, voce\\nMauro Pagani - flauto, violino, voce\\nFranco Mussida - chitarra, voce\\nPatrick Djivas - basso\\nFranz Di Cioccio - batteria, voce'\n",
      " 'Bass – Mino Fabiano, Massimo Moriconi, Charl\\nDrum – Flaviano Cuffari, Alfredo Golino, Ellade Bandini, Dei Lazzaretti\\nGuitar – Beppe Cantarelli, Sandro Ghibellini, Paolo Gianolio\\n'\n",
      " 'Helmut Rose - Harpsichord' 'Unknown'\n",
      " 'Hank Marvin – lead guitar, keyboards, vocals (1958–1968, 1969-1970, 1973–1990, 2004–2005, 2008–2010, 2015, 2020)\\nBruce Welch – rhythm guitar, vocals (1958–1968, 1973–1990, 2004–2005, 2008–2010, 2015, 2020)\\nBrian Bennett – drums, percussion, keyboards (19'\n",
      " 'Vocals [Voce], Harmonica [Armonica], Guitar [Chitarra] – Edoardo Bennato'\n",
      " 'Mike Oldfield – guitars and keyboards'\n",
      " 'Kevin Ayers – bass guitar\\nDavid Bedford – grand piano, accordion, organ, choir master, string arrangements\\nSteve Broughton – drums\\nJon Field – flute\\nFred Frith – electric guitar, bass guitar\\nJohn Greaves – Davoli electric piano, Farfisa organ, tin whistl'\n",
      " 'Drums – Graham Broad. Guitar – Rick Fenn, Guitar. Bass, Keyboards, Vocals – Mike Oldfield. Keyboards – Tim Cross. Percussion – Carl Palmer, Mike Frye. Percussion, Keyboards – Morris Pert. Uilleann Pipes – Paddy Moloney. Vocals – Maggie Reilly.'\n",
      " 'Bowed Guitar, Acoustic Guitar, Electric Guitar, 12-String Guitar, Classical Guitar, Bass guitar, Sitar Guitar, Glorfindel Guitar, Highly Strung Guitar, Flamenco Guitar, Bazouki, Mandolin, Ukulele, Steinway Piano, Banjo, Farfisa Organ, Lowrey Organ']\n",
      "Unique values in column 'Instrument(s)_2': ['cello - David Soyer, Maurice Brown\\nHarp - Janet Putman\\nFlute - Danny Bank, Phil Bodner, Romeo Penque, Tom Parshley.\\nTrumpet - Mel Davis, Billy Butterfield, Jimmy Ochner, Bernie Glow'\n",
      " 'Christine Helliwell – backing vocals (3)\\nScott Gorham – backing vocals (3)\\nVicky Siebenberg – backing vocals (3)\\nAnonymous street musician – saw (3)\\nKen Scott – water gong (8)'\n",
      " nan\n",
      " 'Bass – Gigi Capellotto*\\nBouzouki, Cuica, Sitar, Harmonica – Bruno De Filippi\\nClarinet, Piano – Gianni Nocenzi\\nDrums – Andy Surdi\\nGuitar, Lute – Maurizio Fabrizio\\nHarp – Tiziana Botticini\\nPercussion – Mario Lamberti'\n",
      " 'Lee R. Thornburg – horns on \"Almost Like Love\"\\nNick Lane – horns on \"Almost Like Love\"\\nGreg Smith – horns on \"Almost Like Love\"\\nJimmy Zavala – horns on \"Almost Like Love\", harmonica on \"Love Will Find a Way\"'\n",
      " 'Rick Wakeman – piano, electric keyboards, church organ at St. Martin\\'s in Vevey, Polymoog synthesizer, choral arrangement on \"Awaken\"\\nAlan White – drums, percussion, tuned percussion\\n'\n",
      " 'Acoustic Guitar - Paul Keogh\\nBacking Vocals – Claudio Baglioni\\nBass – Mo Foster, Felix Krish\\nDrums – Brett Morgan, Pete Van Hooke, Stuart Elliot*\\nElectric Guitar - Phil Palmer,  Ray Russel*\\nKeyboards – Jess Bailey, Nick Glenne Smith, Derek Austen\\n'\n",
      " 'keyboards, synthesizers - Toby Chapman\\nbacking vocals - Ruby James, Shirley Lewis, Helena Springs'\n",
      " 'Vocals – Patti Scialfa\\nSynthesizer, Piano – Roy Bittan\\nVocals – Clarence Clemons\\nWords By, Music By – Bruce Springsteen'\n",
      " 'Music By – Dini* (tracks: A4 to B3), Rhodes* (tracks: A2 to B3), Belleno* (tracks: A3 to B3), Salvi* (tracks: A2 to B1, B3), Di Palo* (tracks: A2 to B3), Chiabrera* (tracks: A3, B2)'\n",
      " 'The Edmonton Symphony Orchestra\\nLawrence Leonard, conductor\\nDa Camera Singers'\n",
      " 'keyboards - Jess Bailey' 'Tin Whistle - Lindy Mason\\n'\n",
      " 'Nick Mason – drums and percussion \\nRichard Wright – piano, Hammond organ, Prophet-5, ARP Quadra, Minimoog synthesizers, Fender Rhodes, Wurlitzer electric pianos, clavinet.'\n",
      " 'Drums, Percussion – Rosario Iermano*\\nElectric Bass, Contrabass [Acoustic] – Rino Zurzolo\\nWind – Enzo Avitabile'\n",
      " 'Backing Vocals - John Anthony'\n",
      " 'A1, A2, A7, B2, B4 - Written by Freddy Mercury\\nA3 - Written by Roger Taylor\\nA4 - Written by John Deacon\\nA5, A6, B1, B3 - Written by Brian May '\n",
      " 'Bass  – Billy Cox\\nBass – Jack Casady\\nBass, Rhythm Guitar – Noel Redding\\nDrums – Buddy Miles\\n'\n",
      " \"Lyrics By – Mannerini* (tracks: A1 to A3, B1, B2, B4, B5)\\nMusic By – \\nDe André (tracks: A1 to A4, B1 to B5), D'Adamo (tracks: A5), \\nDi Palo (tracks: A1, A2, A4 to B5), \\nDe Scalzi (tracks: A1, A2, A4 to B5)\"\n",
      " 'Written-By – Richard Wright (tracks: B2,B3), Roger Waters (tracks: B5), Barrett* (tracks: A1 to B1, B5)'\n",
      " 'Backing Vocals – Barry St John*, Doris Troy, Leslie Duncan*, Liza Strike'\n",
      " 'Drums, Percussion, Tape Effects - Nick Mason\\nLead Vocals, Harmony Vocals, Acoustic Guitar, Rhythm Guitar, Bass Guitar, Tape Effects, Vocoder'\n",
      " 'Louis Clark - orchestral & choral arrangements, orchestra conductor\\nMack - engineer'\n",
      " \"Drums, Percussion, Vocals – Gianni Belleno\\nElectric Bass, Vocals – Giorgio D'Adamo\\nElectric Guitar, Acoustic Guitar, Synthesizer [Arp Synthesizer], Vocals – Nico Di Palo\\nElectric Guitar, Acoustic Guitar, Vocals – Ricky Belloni\"\n",
      " 'Written-By – Premoli*, Mussida* (tracks: A1 to A3, B1 to B3), Pagani* (tracks: B1), Sinfield* (tracks: A1 to A3, B2 to B3)'\n",
      " 'Drums – Mel Lewis\\nFrench Horn – Stephanie Fauber\\nLiner Notes – Carlos González (12)\\nManagement [Band Manager], Co-producer – Sherman Darby\\nPiano – Jim McNeely'\n",
      " 'Flute, Flute [Contralto], Piccolo Flute, Violin, Vocals – Mauro Pagani\\nPiano, Harpsichord, Organ [Hammond And Pari], Spinet, Mellotron, Synthesizer [Moog], Bells, Lead Vocals – Flavio Premoli'\n",
      " 'Lyrics By – Mauro Pagani (tracks: A1, B1 to B3), Pete Sinfield* (tracks: A2)\\nMusic By – F. Premoli*, F. Mussida*, M. Pagani* (tracks: A1, A2, B1, B2)'\n",
      " 'Keyboards – Aldo Banfi, Rocco Tanica, Celso Valli, Ugo Bongianni, Danilo Rea\\nPercussion – George Aghedo, Daniele Di Gregorio\\nPiano [Fender] – Danilo Rea\\nViolin [Archi: primo violino] – Gian Maria Berlendis\\nViola – Alessio Toro, Fausto Anzelmo, Gualtiero '\n",
      " 'Composed by - Johann Pachelbel\\nComposed by - Georg Fredrich Haendel\\nComposed by - Johann Sebastian Bach\\n'\n",
      " 'Unknown'\n",
      " 'Ian Samwell – lead guitar, rhythm guitar, bass (1958; died 2003)[26][27][28][29]\\nTerry Smart – drums (1958–1959)[27][28][29][30]\\nNorman Mitham – rhythm guitar (1958)[27][28][29]\\nKen Pavey – rhythm guitar (1958)[31]\\nJet Harris – bass, vocals (1959–1962; d'\n",
      " 'Alto Saxophone [Sax Contralto], Tenor Saxophone [Sax Tenore] – Robert Fix*\\nBass [Basso] – Luigi De Rienzo*\\nDobro [Chitarra Dobro] – Roberto Ciotti\\nGuitar [Chitarra] – Tony Di Mauro (2)\\nMusician [Altri Musicisti] – Alberto Ravasini, Andrea Sacchi, Maurizi'\n",
      " 'Backing Vocals – Phil Spalding, Mike Oldfield, Nikkie \"B\" Bentley, Paul Lee\\nLead Vocals – Adrian Belew, Max Bacon, Maggie Reilly, Carol Kenyon\\nVocals – Mark Williamson,  Anita Hegerland, Chris Thompson'\n",
      " 'Steve Hillage – electric guitar\\nSimon Ingram Hill – cello, organ\\nGeoff Leigh (misspelt on the programme as \"Jeff Leig\") – flute\\nAshley Mason – viola\\nPierre Moerlen – cymbals, glockenspiel, gongs, tam-tam, tubular bells, timpani\\nTom Newman – nasal chorus\\n'\n",
      " \"Shoes, Hoover, Glockenspiel, Marimba, Bodhran, Northumbrian Bagpipes, Clay drums, Triangle, Tambourine, Wonga Box, Bell Tree, Sticks, Finger Cymbals, Toy dog, Melodica, Chairs, Psaltry, Spinet, Flamenco Guitar, Jew's Harp, Penny Whistles, Bass Whistles, \"]\n",
      "Unique values in column 'Instrument(s)_3': ['Trombone - J.J. Johnson, Urbie Green\\nbass trombone - Tommy Mitchell\\npiano - Mal Waldron\\nguitar - Barry Galbraith\\ndouble bass - Milt Hinton\\ndrums - Osie Johnson '\n",
      " nan 'Written-By – Angelo Branduardi'\n",
      " 'Written-By \\nAlan White (tracks: A2, A3, B3), Chris Squire (tracks: A1 to A4, B2, B3), \\nJon Anderson (tracks: A1 to A4, B2 to B4), \\nTony Kaye (tracks: A1 to A4, B2, B3), Trevor Rabin (tracks: A1 to B3)'\n",
      " 'Ars Laeta of Lausanne – choir on \"Awaken\"\\nRichard Williams Singers – choir on \"Awaken\"'\n",
      " 'Percussion – Frank Ricotti\\nPiano – Trevor Bastow, Jess Bailey\\nStrings – London Symphony Orchestra*\\nSynthesizer [Fairlight] – Hans Zimmer, Steve Rance'\n",
      " 'Written-By – Gary Kemp' 'Unknown'\n",
      " 'Written-By – Gilmour (tracks: A7, B1 to B4 to B6), Mason (tracks: A4, A7, B1 to B4, B6), Wright (tracks: A4, A7, B1 to B4, B6), Waters (tracks: A1 to A3, A5 to A7, B1 to B4, B6)'\n",
      " 'Bob Ezrin - piano, Hammond organ and harmonium, Prophet-5\\nJeff Porcaro - drums\\nLee Ritenour – rhythm guitar, acoustic guitar\\nFred Mandel – Hammond organ\\nBobbye Hall – congas and bongos\\nFrank Marocco – concertina\\nLarry Williams – clarinet'\n",
      " 'Performer [Chorus] – Donatella Brighel, Dorina Giangrande'\n",
      " 'Production by Roy Thomas Baker, John Anthony'\n",
      " 'Piano - Sharon Layne\\norgan on \"Electric Church Red House\" - Lee Michaels  '\n",
      " 'Producer – Fabrizio De André, Gianpiero Reverberi'\n",
      " 'Engineer – Alan Parsons\\nEngineer [Assistant] – Peter James\\n'\n",
      " 'Engineer – Brian Humphries\\nProducer – Pink Floyd'\n",
      " \"Written-By – Luis Enriquez\\nWritten-By – Belleno*, D'Adamo*, Di Palo*, Belloni*, Bardotti*, De Scalzi*\"\n",
      " 'Tenor Saxophone, Flute, Clarinet – Joe Lovano, Richard Perry*\\nTrombone – John Mosca, Lee Robertson\\nTrumpet, Flugelhorn – Earl Gardner, Joe Mosello, John Marshall (7), Simo Salmimen*'\n",
      " 'Arranged By – Premiata Forneria Marconi\\nArranged By [In Collaboration With] – Claudio Fabi\\nWritten-By – F. Premoli, F. Mussida, M. Pagani'\n",
      " 'Chorus – Accademia Paolina Da Milano\\nChorus Master – Claudio*'\n",
      " 'Backing Vocals [Coro] – Massimiliano Pani\\nSaxophone – Daniele Comoglio\\nSoprano Saxophone – Wally Allifranchini\\nSynthesizer [Synclavier] – Aldo Banfi'\n",
      " 'Tony Meehan – drums, percussion (1959–1961, 1968; died 2005)\\nBrian Locking – bass, harmonica (1962–1963, 1968; died 2020)\\nJohn Rostill – bass, vocals (1963–1968, 1969-1970; died 1973)\\nAlan Hawkshaw – keyboards (1967, 1969–1970, 1979, 1983; died 2021)'\n",
      " 'Piano – Ernesto VitoloPercussion [Percussioni] – Tony Esposito'\n",
      " 'Harp, Tambourine – Daniel Lazerus\\nSaxophone – Raf Ravenscroft*'\n",
      " 'Mike Oldfield – acoustic and electric guitars, bass, Lowrey organ, mandolin, prehistoric poem\\nTerry Oldfield – flute\\nTed Speight – electric guitar\\nVivian Stanshall – master of ceremonies\\nMick Taylor – electric guitar\\nJanet Townley – violin\\nVulpy – viola'\n",
      " \"Punch Ball and Club, Spoons, Referee's Whistle, Fingernails, Pan Pipes, Glass of Water, Guitar Tuner, Violin, Door, Face Slap, Toothbrush and teeth, Vox Organ, Fake Radio, Contents of Aeromodeller's toolbox, Glass, Hammer and Bucket, Fake Firework\"]\n",
      "Unique values in column 'Instrument(s)_4': [nan 'Written-By, Producer – Claudio Baglioni' 'Unknown'\n",
      " 'Engineering - Brian Humphries\\nProducer, Performer – Pink Floyd'\n",
      " 'New York Orchestra & Opera\\nHarry Waters – child\\'s voice on \"Goodbye Blue Sky\"\\nChildren of Islington Green School\\nBacking Vocals – Bruce Johnston, Islington Green School, Jim Haas, Joe Chemay, John Joyce*, Stan Farber, Toni Tennille'\n",
      " 'Written by  May, Staffell, Mercury, Taylor\\nProducer – John Anthony, Queen\\nProducer, Engineer – Roy Baker*'\n",
      " 'Mixed By [Supervisor] – Chris Thomas\\nProducer, Music By – Pink Floyd'\n",
      " 'Written-By – Herbie Hancock'\n",
      " 'Engineer [Sound] – Gaetano Ria\\nProducer – Premiata Forneria Marconi\\nProducer [In Collaboration With] – Claudio Fabi\\nTechnician [Amplificazione] – Romano Lombardi'\n",
      " 'Backing Vocals – Davide Piazza, Filippo Bernardinello, Gabriella Herklotz, Gianni Demarin, Jean Claude Burri*, Margherita Ragneti, Mario Fabrini, Matteo Marini, Moreno Ferrara, Orio Soldini, Regina Paganin, Simonetta Robbiani, Ugo Norsa, Audio2'\n",
      " 'John Farrar – rhythm and lead guitar, keyboards, vocals (1973–1975)\\nAlan Tarney – bass (1973–1977)\\nCliff Hall – keyboards (1977–1990; 2004–2005)\\nAlan Jones – bass (1977–1985, 1987–1989)\\nGeorge Ford – bass (1978–1980; died 2007)\\nMark Griffiths – bass (198'\n",
      " 'Arranged By [Strings And Horns - Scrittura Archi E Fiati], Directed By [Strings And Horns - Direzione Archi E Fiati] – Antonio Sinagra\\nMusic By [Musiche Di], Words By [Testi Di] – Edoardo Bennato'\n",
      " 'Written-By – Mike Oldfield'\n",
      " 'Girlie Chorus: Sarah Greaves, Kathy Williams, Sally Oldfield, Maureen Rossini, Lynette Asquith, Amanda Parsons, Maggie Thomas, Mundy Ellis, Julie Clive, Liz Gluck, Debbie Scott, Hanna Corker.'\n",
      " 'Rototom, Cabasa, Bongos, Orchestral Bass Drum, Timpani, not much synth at all really, Kalimba, long thin metallic hanging tubes.\\nJanet Brown – voice of \"Margaret Thatcher\"\\nJabula – African choir and percussion\\nPaddy Moloney – tin whistle\\nClodagh Simonds ']\n",
      "Unique values in column 'Media_Condition': ['Near Mint (NM or M-)' 'Fair (F)' 'Very Good (VG)' 'Good Plus (G+)'\n",
      " 'Good (G)' 'Poor (P)']\n",
      "Unique values in column 'Sleeve_Condition': ['Near Mint (NM or M-)' 'Poor (P)' 'Fair (F)' 'Very Good Plus (VG+)'\n",
      " 'Good Plus (G+)' 'Good (G)' 'Very Good (VG)']\n",
      "Unique values in column 'Cover_Art': ['Photo by Michael Ochs Archives / Getty Images'\n",
      " 'Art Direction – Fabio Nicoli\\nDesign [Sleeve], Photography – Paul Wakefield'\n",
      " 'Art Direction [Art Director] – Bob Defrin\\nPhotography [Cover] – François Rivard\\nPhotography [Inner Sleeve/Absent in my vynil] – Neil Preston'\n",
      " 'Photography By – Cesare Monti'\n",
      " 'Photography By – Hipgnosis (2), Brimson*' 'Design – Mouat/AI*\\n'\n",
      " 'Artwork [Logo] – Roger Dean (4)\\nDesign [Graphics] – George Hardie\\nDesign [Sleeve Design], Photography By – Hipgnosis (2\\nLacquer Cut By [Disc Cutting] – Paul Van Der Sonckheyd*, Sean Davis*\\nPhotography By [Inner Spread] – Alex Grob, Jaques Straessle*'\n",
      " 'Graphics – Ufficio Grafico CBS\\nPhotography By – Toni Thorimbert'\n",
      " 'Design – Gary Movat, Assorted Images, London\\nPhotography By [Sleeve] – Nick Knight\\n'\n",
      " 'Art Direction – Sandra Choron\\nPhotography By – Annie Leibovitz'\n",
      " 'Design Concept [Su Una Idea Dei] – New Trolls' 'Cover - Bruce Meek'\n",
      " 'Cover - David Band' 'Artwork – Hipgnosis (2)'\n",
      " 'Artwork – Gerald Scarfe\\nDesign [Sleeve Design] – Gerald Scarfe, Roger Waters'\n",
      " 'Cover – Umberto Telesco\\nGraphics – Bruno Fedetto'\n",
      " 'Cover [Copertina] – Francesco Messina'\n",
      " 'Cover, Design [Cover] – Brian, Douglas, Freddie\\nPhotography By – Douglas Puddifoot\\nPrinted By – Garrod & Lofthouse Ltd.'\n",
      " 'Art Direction – David Costa\\n'\n",
      " 'Designed At – Stylorouge\\nDesigned At – Smay Design\\nPhotography By [Blues Cover Main Image Crash Landing] – Richard Peters (2)\\nPhotography By [Blues Cover] – Andrew Putler, David Redfern, Garry Brandon (2), Glenn A. Baker, Michael Ochs, Retna Pictures Ltd'\n",
      " 'Printed By – Grafiche Dotti' 'Printed By – Grafica Centonze'\n",
      " 'Artwork [Sleeve And Stickers] – George Hardie, N.T.A.\\nDesign [Sleeve], Photography By – Hipgnosis (2)'\n",
      " 'Design [Inflatable Pig Designed By] – E.R.G. Amsterdam\\nGraphics – Nick Mason\\nLayout [Sleeve Design Organised By] – Storm Thorgerson\\nPhotography By – Colin Jones (7), Howard Bartrop, Nic Tucker, Peter Christopherson, Rob Brimson, Bob Ellis'\n",
      " 'Design, Art Direction – Gribbitt!, Norman Moore, Paul Gross (3)\\nPhotography By – Jim Shea'\n",
      " 'Cover – G. Greguoli\\nPhotography By – Luca Greguoli'\n",
      " 'Artwork [Cover Design] – Julia Fryer, Nick Darke\\nIllustration – Julia Fryer'\n",
      " 'Cover [Adapted] – Silvia Valentí\\nCover [Inner Paper Made By] – José R. Rubio*\\nPhotography By – Encore Photographics'\n",
      " 'Cover – Caesar Monti, Giannici, Spinello\\nCover [Copertina Di] – Caesar Monti, Giannici, Spinello\\nPrinted By – Campi Grafica'\n",
      " 'Cover – Fabio Nicoli Associates\\nIllustration – Terry Gough\\nPhotography By – Christine Spengler'\n",
      " 'Artwork – Claudio Bonivento\\nPhotography By – Armando Gallo, Carlo Massarini, Chuck Pulin, Lynn Goldsmith, Roberto Masotti'\n",
      " 'Graphics – Giuseppe Spada\\nIllustration – Gianni Ronco\\nPhotography By – Mauro Balletti'\n",
      " 'Johann Georg Plazer: Das Konzert\\nGermanisches Nationalmuseum, Norimberga'\n",
      " 'Printed By – Grafiche Boccadoro' 'Jellerey Edwards'\n",
      " 'Photography By [Foto] – Giuseppe Pino'\n",
      " 'Sleeve by Storm Thorgrson, Roger Dean, Colin Chambers\\nPhotography by Tony May, Andy Earl\\nGraphics by Nexus'\n",
      " 'Design [Sleeve], Photography By – Trevor Key'\n",
      " 'Design [Sleeve Design] – Mike Oldfield\\nPainting – Gerald Coulson\\nPhotography By – Fin Costello'\n",
      " 'Cover, Liner Notes – William Murray']\n",
      "Unique values in column 'Notes': ['Originally released as Lady in Satin (Columbia) 1958\\n\\nSeries:\\tColored Series'\n",
      " 'Recorded at Trident, Ramport Studios and Scorpio Sound,\\nLondon between February and June, 1974.'\n",
      " 'A2: Written-By – Henry Mancini\\nA5: Excerpt from \"The Scythian Suite\" 2nd Movement by Prokofieff.\\nA6: Excerpt from \"Sinfonietta\" by Janacek.'\n",
      " 'Producer [English Version], Words By – Peter Sinfield\\nEnglish version, based upon the original lyrics, written and produced by Peter Sinfield.\\n\"Highdown Fair\" was freely inspired by a Jewish Passover song, thanks to David.\\nEditado y distribuido por Ariol'\n",
      " 'Not-gatefold cover. It has an inner sleeve with art imagery and lyrics instead.\\nTypo at A5 (label) - (It /In)\\n\\n[on inner sleeve:]\\n℗ & © 1978 Arista Records\\nColin Blunstone appears by courtesy of The Rocket Records Ltd.,\\nDean Ford appears by courtesy of E'\n",
      " nan\n",
      " \"Ars Laeta Of Lausanne on track B2 recorded at Eglise des Planches, Montreux, Switzerland.\\nChurch Organ recorded at St. Martin's Church, Vevey, Switzerland.\\nPackaged in a double gatefold sleeve.\\nIncludes lyrics/credits insert.\\n\\nDistribuido por Hispavox, S\"\n",
      " 'Triple Gatefold Cover.\\nInsert With Lyrics.'\n",
      " 'Carry a yellow circled sticker:\\n\"Includes Fight For Ourselves Through The Barricades 450259 1\"'\n",
      " 'Distributed By – CBS Dischi S.p.A.'\n",
      " 'Includes lyrics insert.\\n[on labels]:\\n(P) 1983 Chrysalis Records Ltd.'\n",
      " 'Front Cover: Photo from the movieBack Cover: Black and white picture from the movie, the credits, and a blue border. \\n\\nDirected by Barbet Schroeder\\nProduced by Jet Films\\nStarring Mimsi Farmer and Klaus Grunberg'\n",
      " 'Released with a gatefold cover and inner sleeves with wall design and hand written lyrics.'\n",
      " 'Issued in a black & white and brown print matt cover, not laminated; comes with an illustrated lyric inner sleeve.\\n\\nRecorded at Quattro Uno studio, Roma (july 1976 - april 1977).\\n'\n",
      " '© ℗ 1979 EMI Italiana S.p.A.' \"80's reissue\"\n",
      " 'Picture inner sleeve.\\nMade in Italy by EMI Italiana S.p.a.'\n",
      " 'Reissue of the Music on Vinyl release from 2010.\\n\\nIncludes expanded booklet filled with rare photos and comprehensive liner notes.\\nPressed on 180 gram audiophile grade vinyl.\\n\\n℗ & © 2010\\nMade in the EU.'\n",
      " 'I testi di Riccardo Mannerini passano attraverso le mani di Fabrizio De André che li assembla ingabbiandoli nella metrica'\n",
      " '\"Candy And A Current Bun\" is misspelled on sleeve & label: should be \"currant\".\\n\\nOn back cover there is the name of David Gilmour but on recording is Syd Barrett.'\n",
      " 'Note on Credits:\\nThough not detailed in the liner notes, Barry St. John, Doris Troy, Lesley Duncan, and Liza Strike perform backing vocals only on tracks A4, B2, B4, and B5.'\n",
      " 'Photography By, Layout [Sleeve Design Organised By] – Aubrey Powell\\nSleeve [Design] – Roger Waters\\nOriginal 1977 issue with matrix numbers either having 30-12-76 and or 7-1-77 as part.\\noriginal studio was build by Pink Floyd in a three-story block.'\n",
      " \"There is a small Epic-Logo on the Jet-Label\\n\\nInner sleeve with lyrics and band members' pics.\\n\\n[rim text]\\nFabricado en España por Discos CBS, S.A., Madrid\\n\\n[back sleeve]\\n© 1979 EPC/SGAE ℗ 1979 EPC - Discos\\nCBS, S. A. - Avda. del Generalisimo, 25 - Madrid\"\n",
      " 'First issue released on a black/silver label.\\nLaminated gatefold cover.'\n",
      " 'Engineered at Command Studios, London, February 1973, and at Fonorama C.A.R. Studios, Milan, October 1972.'\n",
      " 'Album credited to \"Mel Lewis\" on sleeve, and \"Mel Lewis & The Jazz Orchestra\" on back sleeve and labels.'\n",
      " \"Many of the songs from this album would appear either in their original form or re-recorded with vocals in English on PFM's English-language album Photos of Ghosts.\\nFirst Italian pressing with 11/72 date printed on the lower right corner of the back cove\"\n",
      " 'Includes an inner sleeve with a \"painted island\" on front and lyrics and credits on the back.\\nDie-cut sleeve reveals tropic island if record is in, photo of Hiroshima 1945, if record is out.\\n\\nTrack B3 misspelled on label \"Via Lumiere\", correct spelling o'\n",
      " 'On back cover bottom left: \"Printed in Italy - Grafiche Boccadoro\" - compare to Premiata Forneria Marconi - Live In U.S.A.\\n\\nRecorded at Convenction Hall, Toronto University, 22 August 1974 and at Schaefer Central Park Music Festival, New York 31 August 1'\n",
      " 'Round sticker on sleeve with text:\\nContiene l\\'inedito \"Un tempo piccolo\"\\nRemastered edition\\n2 Vinili 180gr. Blu\\n19439826361\\n\\n℗ 2020 Sony Music Entertainment Italy S.p.A. © 2020 PDU Music&Production SA - Distributed by Sony Music Entertainment Italy S.p.A'\n",
      " 'On the back we have the story of the 3 composers and the conductor.'\n",
      " 'Side One\\n1 The Rokes Che Colpa Abbiamo Noi\\n2 Formula 3 Questo Folle Sentimento\\n3 I Nuovi Angeli Donna Felicità\\n4 Middle Of The Road Tweedle Dee Tweedle Dum\\n5 La Strana Società Fai Tornare Il Sole\\n6 Homo Sapiens Bella Da Morire\\nSide Two\\n1 I Giganti Tema\\n2'\n",
      " 'Warren Bennett – keyboards, percussion, harmonica, guitar (2005, 2008–2010, 2015)\\n\\nReleased in a gatefold sleeve\\n\\n[on front cover:]\\nNúmero 1 en Inglaterra'\n",
      " 'Released in a gatefold sleeve with a 6-page booklet attached inside (stapled and glued).\\nPlain inner sleeve.'\n",
      " 'Oldfield used PRS guitars.\\nSynthesizers on the album include a Fairlight Series III and various instruments made by Roland and Korg (including an M1). The album was recorded an Atari 1040ST with C-Lab Notator software'\n",
      " 'Made in Spain\\nT.G. Hostench, S.A. (1983)' '℗ 1982 Virgin Records Ltd.'\n",
      " 'In a parody of listening instructions on the sleeve of Tubular Bells, the album\\'s back cover reads: \"HEALTH WARNING – This record could be hazardous to the health of cloth-eared nincompoops. If you suffer from this condition, consult your Doctor immediat']\n"
     ]
    }
   ],
   "source": [
    "# loop through columns and print unique values\n",
    "# loop through columns and print unique values\n",
    "for col in df.columns:\n",
    "    print(f\"Unique values in column '{col}': {df[col].unique()}\")"
   ]
  },
  {
   "cell_type": "code",
   "execution_count": 44,
   "metadata": {},
   "outputs": [
    {
     "data": {
      "text/plain": [
       "Artist\n",
       "Pink Floyd                                   5\n",
       "Mike Oldfield                                4\n",
       "Premiata Forneria Marconi                    4\n",
       "New Trolls                                   3\n",
       "Yes                                          2\n",
       "Spandau Ballet                               2\n",
       "Queen                                        2\n",
       "Jimi Hendrix                                 1\n",
       "Edoardo Bennato                              1\n",
       "The Shadows                                  1\n",
       "Various                                      1\n",
       "Orchestre Pro Arte De Munich / Kurt Redel    1\n",
       "Mina (3)                                     1\n",
       "Mel Lewis                                    1\n",
       "Electric Light Orchestra                     1\n",
       "Billie Holiday                               1\n",
       "Franco Battiato                              1\n",
       "Supertramp                                   1\n",
       "Procol Harum                                 1\n",
       "Bruce Springsteen                            1\n",
       "Claudio Baglioni                             1\n",
       "The Alan Parsons Project                     1\n",
       "Angelo Branduardi                            1\n",
       "Emerson, Lake & Palmer                       1\n",
       "Pino Daniele                                 1\n",
       "Name: count, dtype: int64"
      ]
     },
     "execution_count": 44,
     "metadata": {},
     "output_type": "execute_result"
    }
   ],
   "source": [
    "counts = df['Artist'].value_counts()\n",
    "counts"
   ]
  },
  {
   "cell_type": "code",
   "execution_count": 45,
   "metadata": {},
   "outputs": [
    {
     "data": {
      "text/plain": [
       "Label\n",
       "Virgin, Virgin                            3\n",
       "CBS                                       3\n",
       "EMI                                       3\n",
       "Numero Uno                                3\n",
       "Ariola, Ariola                            2\n",
       "RCA                                       2\n",
       "Chrysalis                                 2\n",
       "Columbia, Columbia                        2\n",
       "Harvest                                   2\n",
       "Magma (2), Magma (2)                      1\n",
       "Virgin                                    1\n",
       "Ricordi                                   1\n",
       "Reflejo                                   1\n",
       "PDU, Sony Music                           1\n",
       "MPS Records, CFE                          1\n",
       "Manticore                                 1\n",
       "20th Century Masterworks                  1\n",
       "Jet Records                               1\n",
       "Harvest, Harvest                          1\n",
       "A&M Records                               1\n",
       "Experience Hendrix, Legacy, Sony Music    1\n",
       "EMI, EMI                                  1\n",
       "Cetra                                     1\n",
       "Atlantic                                  1\n",
       "ATCO Records                              1\n",
       "Arista, Arista                            1\n",
       "Fonit Cetra                               1\n",
       "Name: count, dtype: int64"
      ]
     },
     "execution_count": 45,
     "metadata": {},
     "output_type": "execute_result"
    }
   ],
   "source": [
    "counts_label = df['Label'].value_counts()\n",
    "counts_label"
   ]
  },
  {
   "cell_type": "code",
   "execution_count": 46,
   "metadata": {},
   "outputs": [],
   "source": [
    "df.loc[df['Artist'] == 'Mina (3)', ['Artist']] = 'Mina'"
   ]
  },
  {
   "cell_type": "code",
   "execution_count": 47,
   "metadata": {},
   "outputs": [],
   "source": [
    "# split the strings by comma and check if the first and second words are the same\n",
    "df['Label'] = df['Label'].apply(lambda x: x.split(',')[0].strip() if len(x.split(',')) > 1 and x.split(',')[0].strip() == x.split(',')[1].strip() else x)"
   ]
  },
  {
   "cell_type": "markdown",
   "metadata": {},
   "source": [
    "1. df['Label'] selects the column named \"Label\" from the DataFrame df.\n",
    "2. .apply(lambda x: ...) applies a function to each value in the selected column, where x represents each value in turn.\n",
    "3. x.split(',') splits the string x by comma and returns a list of the resulting substrings.\n",
    "4. .strip() removes any leading or trailing whitespace from each substring in the resulting list.\n",
    "5. if len(x.split(',')) > 1 and x.split(',')[0].strip() == x.split(',')[1].strip() checks if the resulting list has more than one element and if the first and second elements are equal.\n",
    "6. x.split(',')[0].strip() selects the first element of the resulting list and removes any leading or trailing whitespace.\n",
    "7. else x returns the original value of x if the condition in step 5 is not met.\n",
    "8. The result of the .apply() method is assigned back to the \"Label\" column of the DataFrame df.\n",
    "\n",
    "This code is essentially splitting each value in the \"Label\" column by comma, checking if the first and second substrings are equal, and keeping only the first substring if they are. If there is only one substring (i.e., no comma in the string), the original value is returned."
   ]
  },
  {
   "cell_type": "code",
   "execution_count": 48,
   "metadata": {},
   "outputs": [
    {
     "data": {
      "text/plain": [
       "Label\n",
       "Virgin                                    4\n",
       "EMI                                       4\n",
       "CBS                                       3\n",
       "Numero Uno                                3\n",
       "Harvest                                   3\n",
       "Ariola                                    2\n",
       "RCA                                       2\n",
       "Chrysalis                                 2\n",
       "Columbia                                  2\n",
       "Magma (2)                                 1\n",
       "Ricordi                                   1\n",
       "Reflejo                                   1\n",
       "PDU, Sony Music                           1\n",
       "MPS Records, CFE                          1\n",
       "Manticore                                 1\n",
       "20th Century Masterworks                  1\n",
       "Jet Records                               1\n",
       "A&M Records                               1\n",
       "Experience Hendrix, Legacy, Sony Music    1\n",
       "Cetra                                     1\n",
       "Atlantic                                  1\n",
       "ATCO Records                              1\n",
       "Arista                                    1\n",
       "Fonit Cetra                               1\n",
       "Name: count, dtype: int64"
      ]
     },
     "execution_count": 48,
     "metadata": {},
     "output_type": "execute_result"
    }
   ],
   "source": [
    "counts_label = df['Label'].value_counts()\n",
    "counts_label"
   ]
  },
  {
   "cell_type": "code",
   "execution_count": 49,
   "metadata": {},
   "outputs": [
    {
     "data": {
      "text/plain": [
       "Rating\n",
       "3    14\n",
       "4    13\n",
       "5     7\n",
       "2     6\n",
       "Name: count, dtype: int64"
      ]
     },
     "execution_count": 49,
     "metadata": {},
     "output_type": "execute_result"
    }
   ],
   "source": [
    "counts_label_rating = df['Rating'].value_counts()\n",
    "counts_label_rating"
   ]
  },
  {
   "cell_type": "code",
   "execution_count": 50,
   "metadata": {},
   "outputs": [
    {
     "data": {
      "text/plain": [
       "Album_Type\n",
       "Studio Album      21\n",
       "Collection         7\n",
       "Conceptual         5\n",
       "Live               4\n",
       "Studio Album\\n     1\n",
       "Soundtrack         1\n",
       "Tribute Album      1\n",
       "Name: count, dtype: int64"
      ]
     },
     "execution_count": 50,
     "metadata": {},
     "output_type": "execute_result"
    }
   ],
   "source": [
    "counts_label_album_type = df['Album_Type'].value_counts()\n",
    "counts_label_album_type"
   ]
  },
  {
   "cell_type": "code",
   "execution_count": 51,
   "metadata": {},
   "outputs": [
    {
     "data": {
      "text/plain": [
       "Style\n",
       "Prog Rock                                               5\n",
       "Psychedelic Rock, Prog Rock                             3\n",
       "Classic Rock, Prog Rock, Symphonic Rock                 2\n",
       "Symphonic Rock                                          2\n",
       "Pop Rock, Prog Rock                                     2\n",
       "Blues Rock                                              2\n",
       "Jazz                                                    1\n",
       "Big Band, Jazz-Funk                                     1\n",
       "Art Rock, Prog Rock                                     1\n",
       "Symphonic Rock, Prog Rock, Classic Rock                 1\n",
       "Chanson, Vocal                                          1\n",
       "Jazz-Rock, Classic Rock, Art Rock, Prog Rock, Fusion    1\n",
       "Psychedelic Rock, Classic Rock                          1\n",
       "Classical, Baroque                                      1\n",
       "Instruments                                             1\n",
       "Rock & Roll, Pop Rock                                   1\n",
       "Prog Rock, Symphonic Rock                               1\n",
       "Hard Rock, Heavy Metal, Progressive Rock                1\n",
       "Folk Rock, Pop Rock, Prog Rock                          1\n",
       "Hard Rock, Pop Rock, Prog Rock                          1\n",
       "Rock                                                    1\n",
       "Pop Rock                                                1\n",
       "Synth-pop, Ballad, Dance-pop                            1\n",
       "Soft Rock, Pop Rock, Ballad                             1\n",
       "Pop Rock, Synth-pop                                     1\n",
       "Chanson, Ballad                                         1\n",
       "Art Rock, Pop Rock                                      1\n",
       "Pop Rock, Art Rock, Prog Rock, New Wave                 1\n",
       "Soft Rock, Ballad                                       1\n",
       "Synth-pop, Ambient                                      1\n",
       "Name: count, dtype: int64"
      ]
     },
     "execution_count": 51,
     "metadata": {},
     "output_type": "execute_result"
    }
   ],
   "source": [
    "counts_label_style = df['Style'].value_counts()\n",
    "counts_label_style"
   ]
  },
  {
   "cell_type": "code",
   "execution_count": 52,
   "metadata": {},
   "outputs": [
    {
     "data": {
      "text/plain": [
       "Genre\n",
       "Rock                                                     19\n",
       "Rock, Pop                                                 8\n",
       "Jazz                                                      2\n",
       "Pop                                                       2\n",
       "Art Rock, Prog Rock, Pop Rock                             1\n",
       "Electronic, Pop                                           1\n",
       "Rock, Stage & Screen                                      1\n",
       "Rock, Blues, Pop                                          1\n",
       "Rock, Blues                                               1\n",
       "Jazz, Rock                                                1\n",
       "Classical                                                 1\n",
       "Pop, rock                                                 1\n",
       "Instrumental rock, Progrock, Experimental rock, World     1\n",
       "Name: count, dtype: int64"
      ]
     },
     "execution_count": 52,
     "metadata": {},
     "output_type": "execute_result"
    }
   ],
   "source": [
    "counts_label_genre = df['Genre'].value_counts()\n",
    "counts_label_genre\n"
   ]
  },
  {
   "cell_type": "code",
   "execution_count": 53,
   "metadata": {},
   "outputs": [
    {
     "data": {
      "text/plain": [
       "Catalog_ID                                               V 2640, 210 707\n",
       "Artist                                                     Mike Oldfield\n",
       "Title                                                             Amarok\n",
       "Label                                                             Virgin\n",
       "Format                                                         LP, Album\n",
       "Rating                                                                 4\n",
       "Released                                                            1990\n",
       "Release_id                                                        552362\n",
       "Collection_Folder                                       2022 Second Hand\n",
       "Date_Added                                                    2023-04-24\n",
       "Album_Type                                                  Studio Album\n",
       "Style                                                          Prog Rock\n",
       "Genre                  Instrumental rock, Progrock, Experimental rock...\n",
       "Recorded               Roughwood Croft, \\n\\nChalfont St Giles and CTS...\n",
       "Original_Released                                                   1990\n",
       "Artist_City                                                      Reading\n",
       "Artist_Country                                                        UK\n",
       "Artist_Region_State                                   Berkshire, England\n",
       "Purchased                                                       In-Store\n",
       "Year_Purchased                                                      2022\n",
       "Shop                                                        Daily Record\n",
       "Shop_City                                                      Barcelona\n",
       "Shop_Region_State                                              Catalonia\n",
       "Shop_Country                                                       Spain\n",
       "Years_Active                                                   1967–2018\n",
       "Group                                                                 No\n",
       "Group_Members                                                        NaN\n",
       "Instrument(s)          Bowed Guitar, Acoustic Guitar, Electric Guitar...\n",
       "Instrument(s)_2        Shoes, Hoover, Glockenspiel, Marimba, Bodhran,...\n",
       "Instrument(s)_3        Punch Ball and Club, Spoons, Referee's Whistle...\n",
       "Instrument(s)_4        Rototom, Cabasa, Bongos, Orchestral Bass Drum,...\n",
       "Media_Condition                                           Good Plus (G+)\n",
       "Sleeve_Condition                                                Good (G)\n",
       "Cover_Art                            Cover, Liner Notes – William Murray\n",
       "Notes                  In a parody of listening instructions on the s...\n",
       "Name: 39, dtype: object"
      ]
     },
     "execution_count": 53,
     "metadata": {},
     "output_type": "execute_result"
    }
   ],
   "source": [
    "df.loc[39]"
   ]
  },
  {
   "cell_type": "code",
   "execution_count": 54,
   "metadata": {},
   "outputs": [],
   "source": [
    "df.at[39,'Genre']='Prog Rock'\n",
    "df.at[39,'Style']=\"Instrumental Rock, Prog Rock, Experimental Rock, World\""
   ]
  },
  {
   "cell_type": "code",
   "execution_count": 55,
   "metadata": {},
   "outputs": [
    {
     "data": {
      "text/plain": [
       "Catalog_ID                                               V 2640, 210 707\n",
       "Artist                                                     Mike Oldfield\n",
       "Title                                                             Amarok\n",
       "Label                                                             Virgin\n",
       "Format                                                         LP, Album\n",
       "Rating                                                                 4\n",
       "Released                                                            1990\n",
       "Release_id                                                        552362\n",
       "Collection_Folder                                       2022 Second Hand\n",
       "Date_Added                                                    2023-04-24\n",
       "Album_Type                                                  Studio Album\n",
       "Style                  Instrumental Rock, Prog Rock, Experimental Roc...\n",
       "Genre                                                          Prog Rock\n",
       "Recorded               Roughwood Croft, \\n\\nChalfont St Giles and CTS...\n",
       "Original_Released                                                   1990\n",
       "Artist_City                                                      Reading\n",
       "Artist_Country                                                        UK\n",
       "Artist_Region_State                                   Berkshire, England\n",
       "Purchased                                                       In-Store\n",
       "Year_Purchased                                                      2022\n",
       "Shop                                                        Daily Record\n",
       "Shop_City                                                      Barcelona\n",
       "Shop_Region_State                                              Catalonia\n",
       "Shop_Country                                                       Spain\n",
       "Years_Active                                                   1967–2018\n",
       "Group                                                                 No\n",
       "Group_Members                                                        NaN\n",
       "Instrument(s)          Bowed Guitar, Acoustic Guitar, Electric Guitar...\n",
       "Instrument(s)_2        Shoes, Hoover, Glockenspiel, Marimba, Bodhran,...\n",
       "Instrument(s)_3        Punch Ball and Club, Spoons, Referee's Whistle...\n",
       "Instrument(s)_4        Rototom, Cabasa, Bongos, Orchestral Bass Drum,...\n",
       "Media_Condition                                           Good Plus (G+)\n",
       "Sleeve_Condition                                                Good (G)\n",
       "Cover_Art                            Cover, Liner Notes – William Murray\n",
       "Notes                  In a parody of listening instructions on the s...\n",
       "Name: 39, dtype: object"
      ]
     },
     "execution_count": 55,
     "metadata": {},
     "output_type": "execute_result"
    }
   ],
   "source": [
    "df.loc[39]"
   ]
  },
  {
   "cell_type": "code",
   "execution_count": 56,
   "metadata": {},
   "outputs": [],
   "source": [
    "row_index = df.loc[df['Genre'] == 'Art Rock, Prog Rock, Pop Rock'].index[0]\n"
   ]
  },
  {
   "cell_type": "code",
   "execution_count": 57,
   "metadata": {},
   "outputs": [
    {
     "data": {
      "text/plain": [
       "1"
      ]
     },
     "execution_count": 57,
     "metadata": {},
     "output_type": "execute_result"
    }
   ],
   "source": [
    "row_index"
   ]
  },
  {
   "cell_type": "code",
   "execution_count": 58,
   "metadata": {},
   "outputs": [
    {
     "data": {
      "text/plain": [
       "Catalog_ID                                                      88.122-l\n",
       "Artist                                                        Supertramp\n",
       "Title                                               Crime Of The Century\n",
       "Label                                                        A&M Records\n",
       "Format                                                         LP, Album\n",
       "Rating                                                                 3\n",
       "Released                                                            1974\n",
       "Release_id                                                       1460333\n",
       "Collection_Folder                                       2023 Second Hand\n",
       "Date_Added                                                    2023-04-24\n",
       "Album_Type                                                  Studio Album\n",
       "Style                                                               Rock\n",
       "Genre                                      Art Rock, Prog Rock, Pop Rock\n",
       "Recorded               Trident Studio\\nRamport Studio\\nScorpio Studio...\n",
       "Original_Released                                                   1974\n",
       "Artist_City                                                       London\n",
       "Artist_Country                                                        UK\n",
       "Artist_Region_State                                              England\n",
       "Purchased                                                       In-Store\n",
       "Year_Purchased                                                      2023\n",
       "Shop                                                        Discs Oldies\n",
       "Shop_City                                                       Valencia\n",
       "Shop_Region_State                                    Valencian Community\n",
       "Shop_Country                                                       Spain\n",
       "Years_Active                       1970–1988\\n1996–2002\\n2010–2012\\n2015\n",
       "Group                                                                Yes\n",
       "Group_Members          Rick Davies\\nRoger Hodgson\\nJohn Anthony Helli...\n",
       "Instrument(s)          Rick Davies – vocals, keyboards, harmonica\\nRo...\n",
       "Instrument(s)_2        Christine Helliwell – backing vocals (3)\\nScot...\n",
       "Instrument(s)_3                                                      NaN\n",
       "Instrument(s)_4                                                      NaN\n",
       "Media_Condition                                                 Fair (F)\n",
       "Sleeve_Condition                                                Poor (P)\n",
       "Cover_Art              Art Direction – Fabio Nicoli\\nDesign [Sleeve],...\n",
       "Notes                  Recorded at Trident, Ramport Studios and Scorp...\n",
       "Name: 1, dtype: object"
      ]
     },
     "execution_count": 58,
     "metadata": {},
     "output_type": "execute_result"
    }
   ],
   "source": [
    "df.loc[1]"
   ]
  },
  {
   "cell_type": "code",
   "execution_count": 59,
   "metadata": {},
   "outputs": [],
   "source": [
    "df.at[1,'Genre']='Rock'\n",
    "df.at[1,'Style']=\"Art Rock, Prog Rock, Pop Rock\""
   ]
  },
  {
   "cell_type": "code",
   "execution_count": 60,
   "metadata": {},
   "outputs": [
    {
     "data": {
      "text/plain": [
       "Catalog_ID                                                      88.122-l\n",
       "Artist                                                        Supertramp\n",
       "Title                                               Crime Of The Century\n",
       "Label                                                        A&M Records\n",
       "Format                                                         LP, Album\n",
       "Rating                                                                 3\n",
       "Released                                                            1974\n",
       "Release_id                                                       1460333\n",
       "Collection_Folder                                       2023 Second Hand\n",
       "Date_Added                                                    2023-04-24\n",
       "Album_Type                                                  Studio Album\n",
       "Style                                      Art Rock, Prog Rock, Pop Rock\n",
       "Genre                                                               Rock\n",
       "Recorded               Trident Studio\\nRamport Studio\\nScorpio Studio...\n",
       "Original_Released                                                   1974\n",
       "Artist_City                                                       London\n",
       "Artist_Country                                                        UK\n",
       "Artist_Region_State                                              England\n",
       "Purchased                                                       In-Store\n",
       "Year_Purchased                                                      2023\n",
       "Shop                                                        Discs Oldies\n",
       "Shop_City                                                       Valencia\n",
       "Shop_Region_State                                    Valencian Community\n",
       "Shop_Country                                                       Spain\n",
       "Years_Active                       1970–1988\\n1996–2002\\n2010–2012\\n2015\n",
       "Group                                                                Yes\n",
       "Group_Members          Rick Davies\\nRoger Hodgson\\nJohn Anthony Helli...\n",
       "Instrument(s)          Rick Davies – vocals, keyboards, harmonica\\nRo...\n",
       "Instrument(s)_2        Christine Helliwell – backing vocals (3)\\nScot...\n",
       "Instrument(s)_3                                                      NaN\n",
       "Instrument(s)_4                                                      NaN\n",
       "Media_Condition                                                 Fair (F)\n",
       "Sleeve_Condition                                                Poor (P)\n",
       "Cover_Art              Art Direction – Fabio Nicoli\\nDesign [Sleeve],...\n",
       "Notes                  Recorded at Trident, Ramport Studios and Scorp...\n",
       "Name: 1, dtype: object"
      ]
     },
     "execution_count": 60,
     "metadata": {},
     "output_type": "execute_result"
    }
   ],
   "source": [
    "df.loc[1]"
   ]
  },
  {
   "cell_type": "code",
   "execution_count": 61,
   "metadata": {},
   "outputs": [
    {
     "data": {
      "text/plain": [
       "Group_Members      15\n",
       "Instrument(s)_2     5\n",
       "Instrument(s)_3    13\n",
       "Instrument(s)_4    25\n",
       "Notes               3\n",
       "dtype: int64"
      ]
     },
     "execution_count": 61,
     "metadata": {},
     "output_type": "execute_result"
    }
   ],
   "source": [
    "null_counts = df.isnull().sum()\n",
    "null_counts = null_counts[null_counts != 0]  # Remove columns with no null values\n",
    "null_counts"
   ]
  },
  {
   "cell_type": "code",
   "execution_count": null,
   "metadata": {},
   "outputs": [],
   "source": []
  }
 ],
 "metadata": {
  "kernelspec": {
   "display_name": "Python 3.9.7 ('base')",
   "language": "python",
   "name": "python3"
  },
  "language_info": {
   "codemirror_mode": {
    "name": "ipython",
    "version": 3
   },
   "file_extension": ".py",
   "mimetype": "text/x-python",
   "name": "python",
   "nbconvert_exporter": "python",
   "pygments_lexer": "ipython3",
   "version": "3.9.7"
  },
  "orig_nbformat": 4,
  "vscode": {
   "interpreter": {
    "hash": "651c3b7b3f466eb030aa737f279c846be4db9cba49a2f229278cab5e41121ed5"
   }
  }
 },
 "nbformat": 4,
 "nbformat_minor": 2
}

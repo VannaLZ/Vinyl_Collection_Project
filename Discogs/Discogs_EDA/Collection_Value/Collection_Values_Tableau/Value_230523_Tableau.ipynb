{
 "cells": [
  {
   "cell_type": "code",
   "execution_count": 4,
   "metadata": {},
   "outputs": [],
   "source": [
    "import csv\n",
    "import json\n",
    "import pandas as pd\n",
    "import re"
   ]
  },
  {
   "cell_type": "code",
   "execution_count": 16,
   "metadata": {},
   "outputs": [],
   "source": [
    "#use the absolute file path on the below variable and then run the read.\n",
    "csv_file_path = '/Users/admin/Documents/Vynil_Collection_Project/Discogs/Discogs_Exports/VannaBe_Collection_Price/Final_230523.csv'\n",
    "df = pd.read_csv(csv_file_path)"
   ]
  },
  {
   "cell_type": "code",
   "execution_count": 19,
   "metadata": {},
   "outputs": [],
   "source": [
    "json = df.to_json(orient='records')"
   ]
  },
  {
   "cell_type": "code",
   "execution_count": 22,
   "metadata": {},
   "outputs": [],
   "source": [
    "json_file_path = '/Users/admin/Documents/Vynil_Collection_Project/Discogs/Discogs_Exports/VannaBe_Collection_Price/Final_230523.json'\n",
    "with open(json_file_path, 'w') as json_file:\n",
    "    json_file.write(json)"
   ]
  },
  {
   "cell_type": "code",
   "execution_count": 23,
   "metadata": {},
   "outputs": [],
   "source": [
    "#use the absolute file path on the below variable and then run the read.\n",
    "csv_file_path = '/Users/admin/Documents/Vynil_Collection_Project/Discogs/Discogs_Exports/VannaBe_Collection_Price/Final_290523.csv'\n",
    "df = pd.read_csv(csv_file_path)"
   ]
  },
  {
   "cell_type": "code",
   "execution_count": 24,
   "metadata": {},
   "outputs": [],
   "source": [
    "json = df.to_json(orient='records')"
   ]
  },
  {
   "cell_type": "code",
   "execution_count": 25,
   "metadata": {},
   "outputs": [],
   "source": [
    "json_file_path = '/Users/admin/Documents/Vynil_Collection_Project/Discogs/Discogs_Exports/VannaBe_Collection_Price/Final_290523.json'\n",
    "with open(json_file_path, 'w') as json_file:\n",
    "    json_file.write(json)"
   ]
  },
  {
   "cell_type": "code",
   "execution_count": 26,
   "metadata": {},
   "outputs": [],
   "source": [
    "#use the absolute file path on the below variable and then run the read.\n",
    "csv_file_path = '/Users/admin/Documents/Vynil_Collection_Project/Discogs/Discogs_Exports/VannaBe_Collection_Price/Final_070623.csv'\n",
    "df = pd.read_csv(csv_file_path)"
   ]
  },
  {
   "cell_type": "code",
   "execution_count": 27,
   "metadata": {},
   "outputs": [],
   "source": [
    "json = df.to_json(orient='records')"
   ]
  },
  {
   "cell_type": "code",
   "execution_count": 28,
   "metadata": {},
   "outputs": [],
   "source": [
    "json_file_path = '/Users/admin/Documents/Vynil_Collection_Project/Discogs/Discogs_Exports/VannaBe_Collection_Price/Final_070623.json'\n",
    "with open(json_file_path, 'w') as json_file:\n",
    "    json_file.write(json)"
   ]
  },
  {
   "cell_type": "code",
   "execution_count": 29,
   "metadata": {},
   "outputs": [],
   "source": [
    "#use the absolute file path on the below variable and then run the read.\n",
    "csv_file_path = '/Users/admin/Documents/Vynil_Collection_Project/Discogs/Discogs_Exports/VannaBe_Collection_Price/Final_120623.csv'\n",
    "df = pd.read_csv(csv_file_path)"
   ]
  },
  {
   "cell_type": "code",
   "execution_count": 30,
   "metadata": {},
   "outputs": [],
   "source": [
    "json = df.to_json(orient='records')"
   ]
  },
  {
   "cell_type": "code",
   "execution_count": 31,
   "metadata": {},
   "outputs": [],
   "source": [
    "json_file_path = '/Users/admin/Documents/Vynil_Collection_Project/Discogs/Discogs_Exports/VannaBe_Collection_Price/Final_120623.json'\n",
    "with open(json_file_path, 'w') as json_file:\n",
    "    json_file.write(json)"
   ]
  }
 ],
 "metadata": {
  "kernelspec": {
   "display_name": "Python 3.9.7 ('base')",
   "language": "python",
   "name": "python3"
  },
  "language_info": {
   "codemirror_mode": {
    "name": "ipython",
    "version": 3
   },
   "file_extension": ".py",
   "mimetype": "text/x-python",
   "name": "python",
   "nbconvert_exporter": "python",
   "pygments_lexer": "ipython3",
   "version": "3.9.7"
  },
  "orig_nbformat": 4,
  "vscode": {
   "interpreter": {
    "hash": "651c3b7b3f466eb030aa737f279c846be4db9cba49a2f229278cab5e41121ed5"
   }
  }
 },
 "nbformat": 4,
 "nbformat_minor": 2
}

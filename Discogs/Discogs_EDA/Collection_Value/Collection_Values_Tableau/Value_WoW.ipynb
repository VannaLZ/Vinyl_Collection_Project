{
 "cells": [
  {
   "cell_type": "code",
   "execution_count": 24,
   "metadata": {},
   "outputs": [],
   "source": [
    "import json\n",
    "import pandas as pd\n",
    "import re\n",
    "import os"
   ]
  },
  {
   "cell_type": "code",
   "execution_count": 25,
   "metadata": {},
   "outputs": [],
   "source": [
    "df = pd.read_json(\"../../../Discogs_Exports/VannaBe_Collection_Price/Final_YYMMDD/Final_230523.json\")\n",
    "df_1 = pd.read_json(\"../../../Discogs_Exports/VannaBe_Collection_Price/Final_YYMMDD/Final_230529.json\")\n",
    "df_2 = pd.read_json(\"../../../Discogs_Exports/VannaBe_Collection_Price/Final_YYMMDD/Final_230607.json\")\n",
    "df_3 = pd.read_json(\"../../../Discogs_Exports/VannaBe_Collection_Price/Final_YYMMDD/Final_230612.json\")\n",
    "df_4 = pd.read_json(\"../../../Discogs_Exports/VannaBe_Collection_Price/Final_YYMMDD/Final_230619.json\")\n",
    "df_5 = pd.read_json(\"../../../Discogs_Exports/VannaBe_Collection_Price/Final_YYMMDD/Final_230626.json\")\n",
    "df_6 = pd.read_json(\"../../../Discogs_Exports/VannaBe_Collection_Price/Final_YYMMDD/Final_230703.json\")\n",
    "df_7 = pd.read_json(\"../../../Discogs_Exports/VannaBe_Collection_Price/Final_YYMMDD/Final_230711.json\")\n",
    "df_8 = pd.read_json(\"../../../Discogs_Exports/VannaBe_Collection_Price/Final_YYMMDD/Final_230717.json\")"
   ]
  },
  {
   "cell_type": "code",
   "execution_count": 26,
   "metadata": {},
   "outputs": [],
   "source": [
    "# Merge the DataFrames based on the common columns (Artist,Title and Collection)\n",
    "df_merged = df.merge(df_1, on=['Artist', 'Title','Collection'])\n",
    "df_merged = df_merged.merge(df_2, on=['Artist', 'Title','Collection'])\n",
    "df_merged = df_merged.merge(df_3, on=['Artist', 'Title','Collection'])\n",
    "df_merged = df_merged.merge(df_4, on=['Artist', 'Title','Collection'])\n",
    "df_merged = df_merged.merge(df_5, on=['Artist', 'Title','Collection'])\n",
    "df_merged = df_merged.merge(df_6, on=['Artist', 'Title','Collection'])\n",
    "df_merged = df_merged.merge(df_7, on=['Artist', 'Title','Collection'])\n",
    "df_merged = df_merged.merge(df_8, on=['Artist', 'Title','Collection'])"
   ]
  },
  {
   "cell_type": "code",
   "execution_count": 27,
   "metadata": {},
   "outputs": [
    {
     "data": {
      "text/plain": [
       "Index(['Artist', 'Title', 'Min', 'Median', 'Higher', 'Collection',\n",
       "       'Min_230529', 'Median_230529', 'Higher_230529', 'Min_230607',\n",
       "       'Median_230607', 'Higher_230607', 'Min_230612', 'Median_230612',\n",
       "       'Higher_230612', 'Min_230619', 'Median_230619', 'Higher_230619',\n",
       "       'Min_230626', 'Median_230626', 'Higher_230626', 'Min_230703',\n",
       "       'Median_230703', 'Higher_230703', 'Min_230711', 'Median_230711',\n",
       "       'Higher_230711', 'Min_230717', 'Median_230717', 'Higher_230717'],\n",
       "      dtype='object')"
      ]
     },
     "execution_count": 27,
     "metadata": {},
     "output_type": "execute_result"
    }
   ],
   "source": [
    "df_merged.columns"
   ]
  },
  {
   "cell_type": "code",
   "execution_count": 28,
   "metadata": {},
   "outputs": [],
   "source": [
    "df_merged.to_csv(\"../../../Discogs_Exports/VannaBe_Collection_Price/Merged_Tableau/Merge_230717.csv\", index=False)"
   ]
  },
  {
   "cell_type": "code",
   "execution_count": 29,
   "metadata": {},
   "outputs": [],
   "source": [
    "df= pd.read_csv(\"../../../Discogs_Exports/VannaBe_Collection_Price/Merged_Tableau/Merge_230717.csv\")"
   ]
  },
  {
   "cell_type": "code",
   "execution_count": 30,
   "metadata": {},
   "outputs": [
    {
     "data": {
      "text/plain": [
       "Index(['Artist', 'Title', 'Min', 'Median', 'Higher', 'Collection',\n",
       "       'Min_230529', 'Median_230529', 'Higher_230529', 'Min_230607',\n",
       "       'Median_230607', 'Higher_230607', 'Min_230612', 'Median_230612',\n",
       "       'Higher_230612', 'Min_230619', 'Median_230619', 'Higher_230619',\n",
       "       'Min_230626', 'Median_230626', 'Higher_230626', 'Min_230703',\n",
       "       'Median_230703', 'Higher_230703', 'Min_230711', 'Median_230711',\n",
       "       'Higher_230711', 'Min_230717', 'Median_230717', 'Higher_230717'],\n",
       "      dtype='object')"
      ]
     },
     "execution_count": 30,
     "metadata": {},
     "output_type": "execute_result"
    }
   ],
   "source": [
    "df.columns"
   ]
  },
  {
   "cell_type": "code",
   "execution_count": null,
   "metadata": {},
   "outputs": [],
   "source": []
  }
 ],
 "metadata": {
  "kernelspec": {
   "display_name": "Python 3.9.7 ('base')",
   "language": "python",
   "name": "python3"
  },
  "language_info": {
   "codemirror_mode": {
    "name": "ipython",
    "version": 3
   },
   "file_extension": ".py",
   "mimetype": "text/x-python",
   "name": "python",
   "nbconvert_exporter": "python",
   "pygments_lexer": "ipython3",
   "version": "3.9.7"
  },
  "orig_nbformat": 4,
  "vscode": {
   "interpreter": {
    "hash": "651c3b7b3f466eb030aa737f279c846be4db9cba49a2f229278cab5e41121ed5"
   }
  }
 },
 "nbformat": 4,
 "nbformat_minor": 2
}

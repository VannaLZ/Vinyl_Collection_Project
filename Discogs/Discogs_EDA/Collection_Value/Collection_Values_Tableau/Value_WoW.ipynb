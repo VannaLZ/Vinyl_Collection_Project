{
 "cells": [
  {
   "cell_type": "code",
   "execution_count": 2,
   "metadata": {},
   "outputs": [],
   "source": [
    "import json\n",
    "import pandas as pd\n",
    "import re\n",
    "import os"
   ]
  },
  {
   "cell_type": "code",
   "execution_count": 6,
   "metadata": {},
   "outputs": [],
   "source": [
    "df = pd.read_json(\"../../../Discogs_Exports/VannaBe_Collection_Price/Final_230523.json\")\n",
    "df_1 = pd.read_json(\"../../../Discogs_Exports/VannaBe_Collection_Price/Final_290523.json\")\n",
    "df_2 = pd.read_json(\"../../../Discogs_Exports/VannaBe_Collection_Price/Final_070623.json\")\n",
    "df_3 = pd.read_json(\"../../../Discogs_Exports/VannaBe_Collection_Price/Final_120623.json\")\n",
    "df_4 = pd.read_json(\"../../../Discogs_Exports/VannaBe_Collection_Price/Final_190623.json\")"
   ]
  },
  {
   "cell_type": "code",
   "execution_count": 12,
   "metadata": {},
   "outputs": [],
   "source": [
    "# Merge the DataFrames based on the common columns (Artist and Title)\n",
    "df_merged = df.merge(df_1, on=['Artist', 'Title'])\n",
    "df_merged = df_merged.merge(df_2, on=['Artist', 'Title'])\n",
    "df_merged = df_merged.merge(df_3, on=['Artist', 'Title'])\n",
    "df_merged = df_merged.merge(df_4, on=['Artist', 'Title'])"
   ]
  },
  {
   "cell_type": "code",
   "execution_count": 14,
   "metadata": {},
   "outputs": [
    {
     "data": {
      "text/html": [
       "<div>\n",
       "<style scoped>\n",
       "    .dataframe tbody tr th:only-of-type {\n",
       "        vertical-align: middle;\n",
       "    }\n",
       "\n",
       "    .dataframe tbody tr th {\n",
       "        vertical-align: top;\n",
       "    }\n",
       "\n",
       "    .dataframe thead th {\n",
       "        text-align: right;\n",
       "    }\n",
       "</style>\n",
       "<table border=\"1\" class=\"dataframe\">\n",
       "  <thead>\n",
       "    <tr style=\"text-align: right;\">\n",
       "      <th></th>\n",
       "      <th>Artist</th>\n",
       "      <th>Title</th>\n",
       "      <th>Min</th>\n",
       "      <th>Median</th>\n",
       "      <th>Higher</th>\n",
       "      <th>Min_290523</th>\n",
       "      <th>Median_290523</th>\n",
       "      <th>Higher_290523</th>\n",
       "      <th>Min_070623</th>\n",
       "      <th>Median_070623</th>\n",
       "      <th>Higher_070623</th>\n",
       "      <th>Min_120623</th>\n",
       "      <th>Median_120623</th>\n",
       "      <th>Higher_120623</th>\n",
       "      <th>Min_190623</th>\n",
       "      <th>Median_190623</th>\n",
       "      <th>Higher_190623</th>\n",
       "    </tr>\n",
       "  </thead>\n",
       "  <tbody>\n",
       "    <tr>\n",
       "      <th>0</th>\n",
       "      <td>a-ha</td>\n",
       "      <td>East Of The Sun West Of The Moon</td>\n",
       "      <td>5.05</td>\n",
       "      <td>11.62</td>\n",
       "      <td>26.28</td>\n",
       "      <td>5.05</td>\n",
       "      <td>11.62</td>\n",
       "      <td>26.28</td>\n",
       "      <td>5.11</td>\n",
       "      <td>11.75</td>\n",
       "      <td>26.57</td>\n",
       "      <td>5.05</td>\n",
       "      <td>11.62</td>\n",
       "      <td>26.28</td>\n",
       "      <td>4.95</td>\n",
       "      <td>11.38</td>\n",
       "      <td>25.72</td>\n",
       "    </tr>\n",
       "  </tbody>\n",
       "</table>\n",
       "</div>"
      ],
      "text/plain": [
       "  Artist                             Title   Min  Median  Higher  Min_290523   \n",
       "0   a-ha  East Of The Sun West Of The Moon  5.05   11.62   26.28        5.05  \\\n",
       "\n",
       "   Median_290523  Higher_290523  Min_070623  Median_070623  Higher_070623   \n",
       "0          11.62          26.28        5.11          11.75          26.57  \\\n",
       "\n",
       "   Min_120623  Median_120623  Higher_120623  Min_190623  Median_190623   \n",
       "0        5.05          11.62          26.28        4.95          11.38  \\\n",
       "\n",
       "   Higher_190623  \n",
       "0          25.72  "
      ]
     },
     "execution_count": 14,
     "metadata": {},
     "output_type": "execute_result"
    }
   ],
   "source": [
    "df_merged.head(1)"
   ]
  },
  {
   "cell_type": "code",
   "execution_count": 15,
   "metadata": {},
   "outputs": [],
   "source": [
    "df_merged.to_json(\"../../../Discogs_Exports/VannaBe_Collection_Price/Merge_190623.json\")"
   ]
  }
 ],
 "metadata": {
  "kernelspec": {
   "display_name": "Python 3.9.7 ('base')",
   "language": "python",
   "name": "python3"
  },
  "language_info": {
   "codemirror_mode": {
    "name": "ipython",
    "version": 3
   },
   "file_extension": ".py",
   "mimetype": "text/x-python",
   "name": "python",
   "nbconvert_exporter": "python",
   "pygments_lexer": "ipython3",
   "version": "3.9.7"
  },
  "orig_nbformat": 4,
  "vscode": {
   "interpreter": {
    "hash": "651c3b7b3f466eb030aa737f279c846be4db9cba49a2f229278cab5e41121ed5"
   }
  }
 },
 "nbformat": 4,
 "nbformat_minor": 2
}

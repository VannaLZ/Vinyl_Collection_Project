{
 "cells": [
  {
   "cell_type": "code",
   "execution_count": 13,
   "metadata": {},
   "outputs": [],
   "source": [
    "import pandas as pd\n",
    "import numpy as np\n",
    "import matplotlib.pyplot as plt\n",
    "import seaborn as sns"
   ]
  },
  {
   "cell_type": "code",
   "execution_count": 14,
   "metadata": {},
   "outputs": [],
   "source": [
    "df = pd.read_csv('../Spotify_Playlist/1960_1970_Spotify.csv', index_col=0)"
   ]
  },
  {
   "cell_type": "code",
   "execution_count": 15,
   "metadata": {},
   "outputs": [
    {
     "data": {
      "text/plain": [
       "(263, 25)"
      ]
     },
     "execution_count": 15,
     "metadata": {},
     "output_type": "execute_result"
    }
   ],
   "source": [
    "df.shape"
   ]
  },
  {
   "cell_type": "code",
   "execution_count": 16,
   "metadata": {},
   "outputs": [
    {
     "data": {
      "text/plain": [
       "artist_1         object\n",
       "artist_id_1      object\n",
       "genre_1          object\n",
       "album            object\n",
       "label            object\n",
       "popularity      float64\n",
       "total_tracks      int64\n",
       "album_id         object\n",
       "duration          int64\n",
       "date             object\n",
       "date_album       object\n",
       "imagen           object\n",
       "url_song         object\n",
       "artist_2         object\n",
       "genre_2          object\n",
       "artist_id_2      object\n",
       "artist_3         object\n",
       "genre_3          object\n",
       "artist_id_3      object\n",
       "artist_4         object\n",
       "artist_id_4      object\n",
       "genre_4          object\n",
       "artist_5         object\n",
       "artist_id_5      object\n",
       "genre_5          object\n",
       "dtype: object"
      ]
     },
     "execution_count": 16,
     "metadata": {},
     "output_type": "execute_result"
    }
   ],
   "source": [
    "df.dtypes"
   ]
  },
  {
   "cell_type": "code",
   "execution_count": 17,
   "metadata": {},
   "outputs": [
    {
     "data": {
      "text/plain": [
       "artist_1         0\n",
       "artist_id_1      0\n",
       "genre_1          1\n",
       "album            0\n",
       "label            0\n",
       "popularity       0\n",
       "total_tracks     0\n",
       "album_id         0\n",
       "duration         0\n",
       "date             0\n",
       "date_album       0\n",
       "imagen           0\n",
       "url_song         0\n",
       "artist_2         0\n",
       "genre_2         10\n",
       "artist_id_2      0\n",
       "artist_3         0\n",
       "genre_3          0\n",
       "artist_id_3      0\n",
       "artist_4         0\n",
       "artist_id_4      0\n",
       "genre_4          0\n",
       "artist_5         0\n",
       "artist_id_5      0\n",
       "genre_5          0\n",
       "dtype: int64"
      ]
     },
     "execution_count": 17,
     "metadata": {},
     "output_type": "execute_result"
    }
   ],
   "source": [
    "df.isnull().sum()"
   ]
  },
  {
   "cell_type": "code",
   "execution_count": 18,
   "metadata": {},
   "outputs": [
    {
     "data": {
      "text/plain": [
       "0"
      ]
     },
     "execution_count": 18,
     "metadata": {},
     "output_type": "execute_result"
    }
   ],
   "source": [
    "df.duplicated().sum()"
   ]
  },
  {
   "cell_type": "code",
   "execution_count": 19,
   "metadata": {},
   "outputs": [
    {
     "data": {
      "text/html": [
       "<div>\n",
       "<style scoped>\n",
       "    .dataframe tbody tr th:only-of-type {\n",
       "        vertical-align: middle;\n",
       "    }\n",
       "\n",
       "    .dataframe tbody tr th {\n",
       "        vertical-align: top;\n",
       "    }\n",
       "\n",
       "    .dataframe thead th {\n",
       "        text-align: right;\n",
       "    }\n",
       "</style>\n",
       "<table border=\"1\" class=\"dataframe\">\n",
       "  <thead>\n",
       "    <tr style=\"text-align: right;\">\n",
       "      <th></th>\n",
       "      <th>popularity</th>\n",
       "      <th>total_tracks</th>\n",
       "      <th>duration</th>\n",
       "    </tr>\n",
       "  </thead>\n",
       "  <tbody>\n",
       "    <tr>\n",
       "      <th>count</th>\n",
       "      <td>263.00</td>\n",
       "      <td>263.00</td>\n",
       "      <td>263.00</td>\n",
       "    </tr>\n",
       "    <tr>\n",
       "      <th>mean</th>\n",
       "      <td>47.17</td>\n",
       "      <td>12.22</td>\n",
       "      <td>292724.22</td>\n",
       "    </tr>\n",
       "    <tr>\n",
       "      <th>std</th>\n",
       "      <td>19.36</td>\n",
       "      <td>6.45</td>\n",
       "      <td>215394.66</td>\n",
       "    </tr>\n",
       "    <tr>\n",
       "      <th>min</th>\n",
       "      <td>12.00</td>\n",
       "      <td>4.00</td>\n",
       "      <td>30733.00</td>\n",
       "    </tr>\n",
       "    <tr>\n",
       "      <th>25%</th>\n",
       "      <td>35.00</td>\n",
       "      <td>9.00</td>\n",
       "      <td>190259.50</td>\n",
       "    </tr>\n",
       "    <tr>\n",
       "      <th>50%</th>\n",
       "      <td>47.00</td>\n",
       "      <td>10.00</td>\n",
       "      <td>246973.00</td>\n",
       "    </tr>\n",
       "    <tr>\n",
       "      <th>75%</th>\n",
       "      <td>65.00</td>\n",
       "      <td>13.00</td>\n",
       "      <td>318400.00</td>\n",
       "    </tr>\n",
       "    <tr>\n",
       "      <th>max</th>\n",
       "      <td>76.00</td>\n",
       "      <td>28.00</td>\n",
       "      <td>1561133.00</td>\n",
       "    </tr>\n",
       "  </tbody>\n",
       "</table>\n",
       "</div>"
      ],
      "text/plain": [
       "       popularity  total_tracks    duration\n",
       "count      263.00        263.00      263.00\n",
       "mean        47.17         12.22   292724.22\n",
       "std         19.36          6.45   215394.66\n",
       "min         12.00          4.00    30733.00\n",
       "25%         35.00          9.00   190259.50\n",
       "50%         47.00         10.00   246973.00\n",
       "75%         65.00         13.00   318400.00\n",
       "max         76.00         28.00  1561133.00"
      ]
     },
     "execution_count": 19,
     "metadata": {},
     "output_type": "execute_result"
    }
   ],
   "source": [
    "df.describe().round(2)"
   ]
  },
  {
   "cell_type": "code",
   "execution_count": 23,
   "metadata": {},
   "outputs": [
    {
     "data": {
      "text/html": [
       "<div>\n",
       "<style scoped>\n",
       "    .dataframe tbody tr th:only-of-type {\n",
       "        vertical-align: middle;\n",
       "    }\n",
       "\n",
       "    .dataframe tbody tr th {\n",
       "        vertical-align: top;\n",
       "    }\n",
       "\n",
       "    .dataframe thead th {\n",
       "        text-align: right;\n",
       "    }\n",
       "</style>\n",
       "<table border=\"1\" class=\"dataframe\">\n",
       "  <thead>\n",
       "    <tr style=\"text-align: right;\">\n",
       "      <th></th>\n",
       "      <th>count</th>\n",
       "      <th>unique</th>\n",
       "      <th>top</th>\n",
       "      <th>freq</th>\n",
       "    </tr>\n",
       "  </thead>\n",
       "  <tbody>\n",
       "    <tr>\n",
       "      <th>artist_1</th>\n",
       "      <td>263</td>\n",
       "      <td>17</td>\n",
       "      <td>Pink Floyd</td>\n",
       "      <td>59</td>\n",
       "    </tr>\n",
       "    <tr>\n",
       "      <th>artist_id_1</th>\n",
       "      <td>263</td>\n",
       "      <td>17</td>\n",
       "      <td>0k17h0D3J5VfsdmQ1iZtE9</td>\n",
       "      <td>59</td>\n",
       "    </tr>\n",
       "    <tr>\n",
       "      <th>genre_1</th>\n",
       "      <td>262</td>\n",
       "      <td>16</td>\n",
       "      <td>album rock, art rock, classic rock, progressiv...</td>\n",
       "      <td>59</td>\n",
       "    </tr>\n",
       "    <tr>\n",
       "      <th>album</th>\n",
       "      <td>263</td>\n",
       "      <td>29</td>\n",
       "      <td>The Wall (Remastered)</td>\n",
       "      <td>26</td>\n",
       "    </tr>\n",
       "    <tr>\n",
       "      <th>label</th>\n",
       "      <td>263</td>\n",
       "      <td>16</td>\n",
       "      <td>Pink Floyd Records</td>\n",
       "      <td>59</td>\n",
       "    </tr>\n",
       "    <tr>\n",
       "      <th>album_id</th>\n",
       "      <td>263</td>\n",
       "      <td>29</td>\n",
       "      <td>6WaIQHxEHtZL0RZ62AuY0g</td>\n",
       "      <td>26</td>\n",
       "    </tr>\n",
       "    <tr>\n",
       "      <th>date</th>\n",
       "      <td>263</td>\n",
       "      <td>38</td>\n",
       "      <td>2023-03-13T15:33:14Z</td>\n",
       "      <td>26</td>\n",
       "    </tr>\n",
       "    <tr>\n",
       "      <th>date_album</th>\n",
       "      <td>263</td>\n",
       "      <td>25</td>\n",
       "      <td>1976</td>\n",
       "      <td>26</td>\n",
       "    </tr>\n",
       "    <tr>\n",
       "      <th>imagen</th>\n",
       "      <td>263</td>\n",
       "      <td>29</td>\n",
       "      <td>https://i.scdn.co/image/ab67616d0000b273f34e88...</td>\n",
       "      <td>26</td>\n",
       "    </tr>\n",
       "    <tr>\n",
       "      <th>url_song</th>\n",
       "      <td>263</td>\n",
       "      <td>262</td>\n",
       "      <td>https://open.spotify.com/track/4if2YzjQiHL6uTs...</td>\n",
       "      <td>2</td>\n",
       "    </tr>\n",
       "    <tr>\n",
       "      <th>artist_2</th>\n",
       "      <td>263</td>\n",
       "      <td>2</td>\n",
       "      <td>none</td>\n",
       "      <td>253</td>\n",
       "    </tr>\n",
       "    <tr>\n",
       "      <th>genre_2</th>\n",
       "      <td>253</td>\n",
       "      <td>1</td>\n",
       "      <td>none</td>\n",
       "      <td>253</td>\n",
       "    </tr>\n",
       "    <tr>\n",
       "      <th>artist_id_2</th>\n",
       "      <td>263</td>\n",
       "      <td>2</td>\n",
       "      <td>none</td>\n",
       "      <td>253</td>\n",
       "    </tr>\n",
       "    <tr>\n",
       "      <th>artist_3</th>\n",
       "      <td>263</td>\n",
       "      <td>1</td>\n",
       "      <td>none</td>\n",
       "      <td>263</td>\n",
       "    </tr>\n",
       "    <tr>\n",
       "      <th>genre_3</th>\n",
       "      <td>263</td>\n",
       "      <td>1</td>\n",
       "      <td>none</td>\n",
       "      <td>263</td>\n",
       "    </tr>\n",
       "    <tr>\n",
       "      <th>artist_id_3</th>\n",
       "      <td>263</td>\n",
       "      <td>1</td>\n",
       "      <td>none</td>\n",
       "      <td>263</td>\n",
       "    </tr>\n",
       "    <tr>\n",
       "      <th>artist_4</th>\n",
       "      <td>263</td>\n",
       "      <td>1</td>\n",
       "      <td>none</td>\n",
       "      <td>263</td>\n",
       "    </tr>\n",
       "    <tr>\n",
       "      <th>artist_id_4</th>\n",
       "      <td>263</td>\n",
       "      <td>1</td>\n",
       "      <td>none</td>\n",
       "      <td>263</td>\n",
       "    </tr>\n",
       "    <tr>\n",
       "      <th>genre_4</th>\n",
       "      <td>263</td>\n",
       "      <td>1</td>\n",
       "      <td>none</td>\n",
       "      <td>263</td>\n",
       "    </tr>\n",
       "    <tr>\n",
       "      <th>artist_5</th>\n",
       "      <td>263</td>\n",
       "      <td>1</td>\n",
       "      <td>none</td>\n",
       "      <td>263</td>\n",
       "    </tr>\n",
       "    <tr>\n",
       "      <th>artist_id_5</th>\n",
       "      <td>263</td>\n",
       "      <td>1</td>\n",
       "      <td>none</td>\n",
       "      <td>263</td>\n",
       "    </tr>\n",
       "    <tr>\n",
       "      <th>genre_5</th>\n",
       "      <td>263</td>\n",
       "      <td>1</td>\n",
       "      <td>none</td>\n",
       "      <td>263</td>\n",
       "    </tr>\n",
       "  </tbody>\n",
       "</table>\n",
       "</div>"
      ],
      "text/plain": [
       "            count unique                                                top   \n",
       "artist_1      263     17                                         Pink Floyd  \\\n",
       "artist_id_1   263     17                             0k17h0D3J5VfsdmQ1iZtE9   \n",
       "genre_1       262     16  album rock, art rock, classic rock, progressiv...   \n",
       "album         263     29                              The Wall (Remastered)   \n",
       "label         263     16                                 Pink Floyd Records   \n",
       "album_id      263     29                             6WaIQHxEHtZL0RZ62AuY0g   \n",
       "date          263     38                               2023-03-13T15:33:14Z   \n",
       "date_album    263     25                                               1976   \n",
       "imagen        263     29  https://i.scdn.co/image/ab67616d0000b273f34e88...   \n",
       "url_song      263    262  https://open.spotify.com/track/4if2YzjQiHL6uTs...   \n",
       "artist_2      263      2                                               none   \n",
       "genre_2       253      1                                               none   \n",
       "artist_id_2   263      2                                               none   \n",
       "artist_3      263      1                                               none   \n",
       "genre_3       263      1                                               none   \n",
       "artist_id_3   263      1                                               none   \n",
       "artist_4      263      1                                               none   \n",
       "artist_id_4   263      1                                               none   \n",
       "genre_4       263      1                                               none   \n",
       "artist_5      263      1                                               none   \n",
       "artist_id_5   263      1                                               none   \n",
       "genre_5       263      1                                               none   \n",
       "\n",
       "            freq  \n",
       "artist_1      59  \n",
       "artist_id_1   59  \n",
       "genre_1       59  \n",
       "album         26  \n",
       "label         59  \n",
       "album_id      26  \n",
       "date          26  \n",
       "date_album    26  \n",
       "imagen        26  \n",
       "url_song       2  \n",
       "artist_2     253  \n",
       "genre_2      253  \n",
       "artist_id_2  253  \n",
       "artist_3     263  \n",
       "genre_3      263  \n",
       "artist_id_3  263  \n",
       "artist_4     263  \n",
       "artist_id_4  263  \n",
       "genre_4      263  \n",
       "artist_5     263  \n",
       "artist_id_5  263  \n",
       "genre_5      263  "
      ]
     },
     "execution_count": 23,
     "metadata": {},
     "output_type": "execute_result"
    }
   ],
   "source": [
    "df.describe(include=['O']).transpose()"
   ]
  },
  {
   "cell_type": "code",
   "execution_count": 32,
   "metadata": {},
   "outputs": [],
   "source": [
    "columns = ['artist_1', 'artist_2', 'artist_3','artist_4','artist_5']\n",
    "\n",
    "unique_values_list = []\n",
    "\n",
    "for column in columns:\n",
    "    unique_values = df[column].unique()\n",
    "    unique_values_list.append(unique_values)\n",
    "\n",
    "unique_values_all = np.concatenate(unique_values_list)\n",
    "unique_values_all = np.unique(unique_values_all)"
   ]
  },
  {
   "cell_type": "code",
   "execution_count": 33,
   "metadata": {},
   "outputs": [
    {
     "data": {
      "text/plain": [
       "array(['Angelo Branduardi', 'Dire Straits', 'Edmonton Symphony Orchestra',\n",
       "       'Edoardo Bennato', 'Electric Light Orchestra', 'Franco Battiato',\n",
       "       'Genesis', 'James Taylor', 'Mike Oldfield', 'New Trolls',\n",
       "       'Orchestra Rehearsal', 'Pink Floyd', 'Premiata Forneria Marconi',\n",
       "       'Procol Harum', 'Queen', 'Status Quo', 'The Alan Parsons Project',\n",
       "       'Yes', 'none'], dtype=object)"
      ]
     },
     "execution_count": 33,
     "metadata": {},
     "output_type": "execute_result"
    }
   ],
   "source": [
    "unique_values_all"
   ]
  },
  {
   "cell_type": "code",
   "execution_count": null,
   "metadata": {},
   "outputs": [],
   "source": []
  }
 ],
 "metadata": {
  "kernelspec": {
   "display_name": "Python 3.9.7 ('base')",
   "language": "python",
   "name": "python3"
  },
  "language_info": {
   "codemirror_mode": {
    "name": "ipython",
    "version": 3
   },
   "file_extension": ".py",
   "mimetype": "text/x-python",
   "name": "python",
   "nbconvert_exporter": "python",
   "pygments_lexer": "ipython3",
   "version": "3.9.7"
  },
  "orig_nbformat": 4,
  "vscode": {
   "interpreter": {
    "hash": "651c3b7b3f466eb030aa737f279c846be4db9cba49a2f229278cab5e41121ed5"
   }
  }
 },
 "nbformat": 4,
 "nbformat_minor": 2
}

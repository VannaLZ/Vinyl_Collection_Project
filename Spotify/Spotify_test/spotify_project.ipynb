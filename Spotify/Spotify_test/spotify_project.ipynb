{
 "cells": [
  {
   "cell_type": "markdown",
   "metadata": {},
   "source": [
    "This code imports several Python modules commonly used in data analysis and visualization tasks, including 'spotipy' for the Spotify Web API, 'pandas' for data manipulation, 'numpy' for scientific computing. \n",
    "\n",
    "The 'sys' module is also imported, but not used in the code."
   ]
  },
  {
   "cell_type": "code",
   "execution_count": 19,
   "metadata": {},
   "outputs": [
    {
     "data": {
      "text/plain": [
       "True"
      ]
     },
     "execution_count": 19,
     "metadata": {},
     "output_type": "execute_result"
    }
   ],
   "source": [
    "import sys\n",
    "#This line imports the 'sys' module, which provides access to some variables used \n",
    "# or maintained by the interpreter and to functions that interact strongly with the interpreter. It is not used in the rest of the code.\n",
    "\n",
    "import spotipy \n",
    "#Python library for the Spotify Web API. \n",
    "# It allows developers to interact with Spotify's music \n",
    "#streaming services and data about artists, albums, and songs.\n",
    "from spotipy.oauth2 import SpotifyClientCredentials\n",
    "#'SpotifyClientCredentials' class from the 'spotipy.oauth2' module. \n",
    "# This class is used to authenticate and authorize access to the Spotify Web API \n",
    "# using client credentials.\n",
    "\n",
    "import pandas as pd\n",
    "#This line imports the 'pandas' module and renames it as 'pd'. \n",
    "# Pandas is a popular data manipulation and analysis library for Python.\n",
    "\n",
    "import numpy as np\n",
    "#This line imports the 'numpy' module and renames it as 'np'. \n",
    "#NumPy is a popular library for scientific computing in Python. \n",
    "#It provides tools for working with arrays and matrices of numerical data.\n",
    "\n",
    "import pyjsonviewer\n",
    "#This line imports the 'pyjsonviewer' module, which is a Python library \n",
    "#for viewing and analyzing JSON data. It is not used in the rest of the code.\n",
    "\n",
    "import os\n",
    "#This line imports the 'os' module, which provides a way of interacting \n",
    "# with the operating system in a portable way. \n",
    "# It allows Python code to access environment variables, files, directories, \n",
    "# and other operating system resources.\n",
    "from dotenv import load_dotenv\n",
    "#This line imports the 'load_dotenv' function from the 'dotenv' module. \n",
    "#'dotenv' is a Python library that loads environment variables from a file named '.env' \n",
    "# in the current directory, if it exists. \n",
    "# It is often used to manage sensitive information such as API keys, passwords, and other secrets.\n",
    "load_dotenv()\n",
    "#This makes any environment variables defined in the '.env' file \n",
    "# available to the Python script as if they were defined in the operating system's environment. \n",
    "# This is useful for keeping sensitive information separate from the code and not hardcoding it\n",
    "# into the script."
   ]
  },
  {
   "cell_type": "code",
   "execution_count": 20,
   "metadata": {},
   "outputs": [],
   "source": [
    "client_id = os.getenv(\"client_id\")\n",
    "client_secret = os.getenv(\"client_secret\")"
   ]
  },
  {
   "cell_type": "code",
   "execution_count": 21,
   "metadata": {},
   "outputs": [],
   "source": [
    "credentials = SpotifyClientCredentials(client_id=client_id, client_secret=client_secret)"
   ]
  },
  {
   "cell_type": "code",
   "execution_count": 22,
   "metadata": {},
   "outputs": [],
   "source": [
    "sp = spotipy.Spotify(client_credentials_manager=credentials)"
   ]
  },
  {
   "cell_type": "code",
   "execution_count": 23,
   "metadata": {},
   "outputs": [],
   "source": [
    "link = \"https://open.spotify.com/playlist/2Mrd1QzczV2yEwieR5v9Kp?si=ZKUe3gOUQOWedVCbYkBH8g&dd=1\""
   ]
  },
  {
   "cell_type": "code",
   "execution_count": 24,
   "metadata": {},
   "outputs": [
    {
     "data": {
      "text/plain": [
       "'2Mrd1QzczV2yEwieR5v9Kp'"
      ]
     },
     "execution_count": 24,
     "metadata": {},
     "output_type": "execute_result"
    }
   ],
   "source": [
    "playlist_URI = link.split(\"/\")[-1].split(\"?\")[0]\n",
    "playlist_URI"
   ]
  },
  {
   "cell_type": "markdown",
   "metadata": {},
   "source": [
    "After the loop has completed, the all_data list will contain all the tracks retrieved from the playlist in batches of 100 tracks at a time."
   ]
  },
  {
   "cell_type": "code",
   "execution_count": 25,
   "metadata": {},
   "outputs": [],
   "source": [
    "offset = 0 \n",
    "#This initializes a variable offset to 0. This variable will be used to keep track of the starting point of the tracks to retrieve from the playlist.\n",
    "all_data = []\n",
    "#This initializes an empty list all_data. This list will be used to store all the tracks retrieved from the playlist.\n",
    "for i in range(3):\n",
    "#This starts a loop that will run three times because I have almost 300 tracks in this list.\n",
    "#The loop will be used to retrieve tracks from the playlist in batches of 100 tracks at a time.\n",
    "    all_data.append(sp.playlist_tracks(playlist_URI, offset=offset)[\"items\"])\n",
    "    #This line retrieves the tracks from the playlist using the playlist_tracks function of the sp object. \n",
    "    #The playlist_URI variable specifies the URI of the playlist to retrieve tracks from, \n",
    "    #and the offset parameter specifies the starting point of the tracks to retrieve. \n",
    "    #The [\"items\"] syntax is used to extract the list of tracks from the response of the playlist_tracks function. \n",
    "    #The retrieved tracks are then appended to the all_data list.\n",
    "    offset += 100\n",
    "    #This increments the offset variable by 100, so that the next batch of tracks to retrieve will start from the 101st track in the playlist."
   ]
  },
  {
   "cell_type": "code",
   "execution_count": 26,
   "metadata": {},
   "outputs": [
    {
     "data": {
      "text/plain": [
       "dict_keys(['added_at', 'added_by', 'is_local', 'primary_color', 'track', 'video_thumbnail'])"
      ]
     },
     "execution_count": 26,
     "metadata": {},
     "output_type": "execute_result"
    }
   ],
   "source": [
    "all_data[0][0].keys()"
   ]
  },
  {
   "cell_type": "markdown",
   "metadata": {},
   "source": [
    "The code provided pyjsonviewer.view_data(json_data = all_data) is likely using the pyjsonviewer library to display a graphical user interface (GUI) for viewing JSON data stored in the all_data variable.\n",
    "\n",
    "The pyjsonviewer.view_data() function takes in a JSON object or string as input and displays it in a user-friendly way. This can be useful for visualizing complex JSON structures, such as those returned by APIs or stored in data files."
   ]
  },
  {
   "cell_type": "code",
   "execution_count": null,
   "metadata": {},
   "outputs": [],
   "source": [
    "#pyjsonviewer.view_data(json_data = all_data)"
   ]
  },
  {
   "cell_type": "markdown",
   "metadata": {},
   "source": [
    "### Artist Information"
   ]
  },
  {
   "cell_type": "code",
   "execution_count": 27,
   "metadata": {},
   "outputs": [
    {
     "data": {
      "text/plain": [
       "'Pink Floyd'"
      ]
     },
     "execution_count": 27,
     "metadata": {},
     "output_type": "execute_result"
    }
   ],
   "source": [
    "all_data[0][0][\"track\"][\"album\"][\"artists\"][0][\"name\"]"
   ]
  },
  {
   "cell_type": "code",
   "execution_count": 28,
   "metadata": {},
   "outputs": [
    {
     "data": {
      "text/plain": [
       "'0k17h0D3J5VfsdmQ1iZtE9'"
      ]
     },
     "execution_count": 28,
     "metadata": {},
     "output_type": "execute_result"
    }
   ],
   "source": [
    "all_data[0][0][\"track\"][\"artists\"][0][\"id\"]"
   ]
  },
  {
   "cell_type": "code",
   "execution_count": 29,
   "metadata": {},
   "outputs": [
    {
     "name": "stdout",
     "output_type": "stream",
     "text": [
      "['0k17h0D3J5VfsdmQ1iZtE9', '0GbqW5TJr7n4is453VOY4C', '4gIdjgLlvgEOz7MexDZzpM', '3qlU3Nyu3XXO2k9AUnTcy1', '0WwSkZ7LtFUFjGjMZBMt6T', '562Od3CffWedyz2BbeYWVn', '1MD5pgVzlusqGyuSTcTxvu', '5RN8L3RHQZ87m7gNWUyFmu']\n"
     ]
    }
   ],
   "source": [
    "artist_ids = []\n",
    "for i in range(100):\n",
    "    artist_id = all_data[0][i][\"track\"][\"artists\"][0][\"id\"]\n",
    "    if artist_id not in artist_ids:\n",
    "        artist_ids.append(artist_id)\n",
    "    \n",
    "print(artist_ids)"
   ]
  },
  {
   "cell_type": "code",
   "execution_count": 30,
   "metadata": {},
   "outputs": [
    {
     "name": "stdout",
     "output_type": "stream",
     "text": [
      "genres: ['album rock', 'art rock', 'classic rock', 'progressive rock', 'psychedelic rock', 'rock', 'symphonic rock']\n"
     ]
    }
   ],
   "source": [
    "artist_id = '0k17h0D3J5VfsdmQ1iZtE9'\n",
    "artist = sp.artist(artist_id)\n",
    "genres = artist[\"genres\"]\n",
    "print(\"genres:\", genres)"
   ]
  },
  {
   "cell_type": "markdown",
   "metadata": {},
   "source": [
    "### Album Information"
   ]
  },
  {
   "cell_type": "code",
   "execution_count": 31,
   "metadata": {},
   "outputs": [
    {
     "data": {
      "text/plain": [
       "dict_keys(['album_group', 'album_type', 'artists', 'available_markets', 'external_urls', 'href', 'id', 'images', 'is_playable', 'name', 'release_date', 'release_date_precision', 'total_tracks', 'type', 'uri'])"
      ]
     },
     "execution_count": 31,
     "metadata": {},
     "output_type": "execute_result"
    }
   ],
   "source": [
    "all_data[0][0][\"track\"][\"album\"].keys()"
   ]
  },
  {
   "cell_type": "code",
   "execution_count": 32,
   "metadata": {},
   "outputs": [
    {
     "data": {
      "text/plain": [
       "'Wish You Were Here (Remastered Version)'"
      ]
     },
     "execution_count": 32,
     "metadata": {},
     "output_type": "execute_result"
    }
   ],
   "source": [
    "all_data[0][0][\"track\"][\"album\"][\"name\"]"
   ]
  },
  {
   "cell_type": "code",
   "execution_count": 33,
   "metadata": {},
   "outputs": [
    {
     "data": {
      "text/plain": [
       "'1975-09-12'"
      ]
     },
     "execution_count": 33,
     "metadata": {},
     "output_type": "execute_result"
    }
   ],
   "source": [
    "all_data[0][0][\"track\"][\"album\"][\"release_date\"]"
   ]
  },
  {
   "cell_type": "code",
   "execution_count": 38,
   "metadata": {},
   "outputs": [
    {
     "data": {
      "text/plain": [
       "5"
      ]
     },
     "execution_count": 38,
     "metadata": {},
     "output_type": "execute_result"
    }
   ],
   "source": [
    "all_data[0][0][\"track\"][\"album\"][\"total_tracks\"]"
   ]
  },
  {
   "cell_type": "code",
   "execution_count": 34,
   "metadata": {},
   "outputs": [
    {
     "data": {
      "text/plain": [
       "'1R6bCaVOmWpb8EGrCGZs63'"
      ]
     },
     "execution_count": 34,
     "metadata": {},
     "output_type": "execute_result"
    }
   ],
   "source": [
    "all_data[0][60][\"track\"][\"album\"][\"id\"]"
   ]
  },
  {
   "cell_type": "code",
   "execution_count": 35,
   "metadata": {},
   "outputs": [
    {
     "name": "stdout",
     "output_type": "stream",
     "text": [
      "['6WaIQHxEHtZL0RZ62AuY0g', '7bXJzll4GUEOGqX1YshA8C', '2WT1pbYjLJciAR26yMebkH', '1kkb8xlG9yssEVsWKiEtAB', '1NeJ0QqKv002iYDiOCaUOA', '1GbtB4zTqAsyfZEsm1RZfx', '2U4JHXMiBxsKH4dnYEQg2g', '21jUB9RqplD6OqtsTjKBnO', '16MjanaRhBF4JEP9Tn5sho', '7zDqAzJyPco6YimYnwwYfV', '4cgVVEx6TVlRvjjyuGg92f', '6MK9yp7hFeOLeR7F1hsBp6', '11O60gqbQl6f3EmTyZGaur']\n"
     ]
    }
   ],
   "source": [
    "album_ids = []\n",
    "for i in range(100):\n",
    "    album_id = all_data[1][i][\"track\"][\"album\"][\"id\"]\n",
    "    if album_id not in album_ids:\n",
    "        album_ids.append(album_id)\n",
    "        \n",
    "print(album_ids)\n"
   ]
  },
  {
   "cell_type": "code",
   "execution_count": 36,
   "metadata": {},
   "outputs": [
    {
     "name": "stdout",
     "output_type": "stream",
     "text": [
      "Genres: []\n"
     ]
    }
   ],
   "source": [
    "album_id =\"3B61kSKTxlY36cYgzvf3cP\"\n",
    "album_info = sp.album(album_id)\n",
    "genres = album_info[\"genres\"]\n",
    "\n",
    "print(\"Genres:\", genres)"
   ]
  },
  {
   "cell_type": "markdown",
   "metadata": {},
   "source": [
    "### Create the datatable"
   ]
  },
  {
   "cell_type": "code",
   "execution_count": 47,
   "metadata": {},
   "outputs": [],
   "source": [
    "basic_info = {\"song\": [], \n",
    "              \"artist_1\": [], \n",
    "              \"artist_id_1\": [], \n",
    "              \"album\": [], \n",
    "              \"album_id\": [],\n",
    "              \"duration\": [],\n",
    "              \"date\": [],\n",
    "              \"date_album\": [], \n",
    "              \"imagen\": [], \n",
    "              \"url_song\": [], \n",
    "              \"total_tracks\": []}\n",
    "\n",
    "for element in range(len(all_data)):\n",
    "        for song in range(len(all_data[element])):\n",
    "            basic_info[\"song\"].append(all_data[element][song][\"track\"][\"name\"])\n",
    "            basic_info[\"album\"].append(all_data[element][song][\"track\"][\"album\"][\"name\"])\n",
    "            basic_info[\"album_id\"].append(all_data[element][song][\"track\"][\"album\"]['id'])\n",
    "            basic_info[\"duration\"].append(all_data[element][song][\"track\"][\"duration_ms\"])\n",
    "            basic_info[\"date\"].append(all_data[element][song][\"added_at\"])\n",
    "            basic_info[\"date_album\"].append(all_data[element][song][\"track\"][\"album\"][\"release_date\"])\n",
    "            basic_info[\"imagen\"].append(all_data[element][song][\"track\"][\"album\"][\"images\"][0][\"url\"])\n",
    "            basic_info[\"url_song\"].append(all_data[element][song][\"track\"][\"external_urls\"][\"spotify\"])\n",
    "            basic_info[\"total_tracks\"].append(all_data[element][song][\"track\"][\"album\"][\"total_tracks\"])\n",
    "        \n",
    "            num_artists = len(all_data[element][song][\"track\"][\"artists\"])\n",
    "            for i in range(num_artists):\n",
    "                artist_key = f\"artist_{i+1}\"\n",
    "                artist_id_key = f\"artist_id_{i+1}\"\n",
    "                basic_info.setdefault(artist_key, [])\n",
    "                basic_info.setdefault(artist_id_key, [])\n",
    "                basic_info[artist_key].append(all_data[element][song][\"track\"][\"artists\"][i][\"name\"])\n",
    "                basic_info[artist_id_key].append(all_data[element][song][\"track\"][\"artists\"][i][\"id\"])\n",
    "        \n",
    "        # Add \"none\" to extra artist and artist_id columns if there is no value\n",
    "            for j in range(num_artists+1, 6):\n",
    "                artist_key = f\"artist_{j}\"\n",
    "                artist_id_key = f\"artist_id_{j}\"\n",
    "                basic_info.setdefault(artist_key, [])\n",
    "                basic_info.setdefault(artist_id_key, [])\n",
    "                basic_info[artist_key].append(\"none\")\n",
    "                basic_info[artist_id_key].append(\"none\")"
   ]
  },
  {
   "cell_type": "code",
   "execution_count": 48,
   "metadata": {},
   "outputs": [
    {
     "name": "stdout",
     "output_type": "stream",
     "text": [
      "song .... 263\n",
      "artist_1 .... 263\n",
      "artist_id_1 .... 263\n",
      "album .... 263\n",
      "album_id .... 263\n",
      "duration .... 263\n",
      "date .... 263\n",
      "date_album .... 263\n",
      "imagen .... 263\n",
      "url_song .... 263\n",
      "total_tracks .... 263\n",
      "artist_2 .... 263\n",
      "artist_id_2 .... 263\n",
      "artist_3 .... 263\n",
      "artist_id_3 .... 263\n",
      "artist_4 .... 263\n",
      "artist_id_4 .... 263\n",
      "artist_5 .... 263\n",
      "artist_id_5 .... 263\n"
     ]
    }
   ],
   "source": [
    "for k, v in basic_info.items():\n",
    "    print(k, \"....\", len(v))"
   ]
  },
  {
   "cell_type": "code",
   "execution_count": 49,
   "metadata": {},
   "outputs": [
    {
     "data": {
      "text/html": [
       "<div>\n",
       "<style scoped>\n",
       "    .dataframe tbody tr th:only-of-type {\n",
       "        vertical-align: middle;\n",
       "    }\n",
       "\n",
       "    .dataframe tbody tr th {\n",
       "        vertical-align: top;\n",
       "    }\n",
       "\n",
       "    .dataframe thead th {\n",
       "        text-align: right;\n",
       "    }\n",
       "</style>\n",
       "<table border=\"1\" class=\"dataframe\">\n",
       "  <thead>\n",
       "    <tr style=\"text-align: right;\">\n",
       "      <th></th>\n",
       "      <th>song</th>\n",
       "      <th>artist_1</th>\n",
       "      <th>artist_id_1</th>\n",
       "      <th>album</th>\n",
       "      <th>album_id</th>\n",
       "      <th>duration</th>\n",
       "      <th>date</th>\n",
       "      <th>date_album</th>\n",
       "      <th>imagen</th>\n",
       "      <th>url_song</th>\n",
       "      <th>total_tracks</th>\n",
       "      <th>artist_2</th>\n",
       "      <th>artist_id_2</th>\n",
       "      <th>artist_3</th>\n",
       "      <th>artist_id_3</th>\n",
       "      <th>artist_4</th>\n",
       "      <th>artist_id_4</th>\n",
       "      <th>artist_5</th>\n",
       "      <th>artist_id_5</th>\n",
       "    </tr>\n",
       "  </thead>\n",
       "  <tbody>\n",
       "    <tr>\n",
       "      <th>39</th>\n",
       "      <td>Where Do You Think You're Going?</td>\n",
       "      <td>Dire Straits</td>\n",
       "      <td>0WwSkZ7LtFUFjGjMZBMt6T</td>\n",
       "      <td>Communiqué</td>\n",
       "      <td>2xQBCPq2gQ7l8thLUUZSKu</td>\n",
       "      <td>229640</td>\n",
       "      <td>2023-02-05T06:46:33Z</td>\n",
       "      <td>1979-06-15</td>\n",
       "      <td>https://i.scdn.co/image/ab67616d0000b2736b6f0a...</td>\n",
       "      <td>https://open.spotify.com/track/2kKNeapwCHUUvMh...</td>\n",
       "      <td>9</td>\n",
       "      <td>none</td>\n",
       "      <td>none</td>\n",
       "      <td>none</td>\n",
       "      <td>none</td>\n",
       "      <td>none</td>\n",
       "      <td>none</td>\n",
       "      <td>none</td>\n",
       "      <td>none</td>\n",
       "    </tr>\n",
       "    <tr>\n",
       "      <th>32</th>\n",
       "      <td>The Stag</td>\n",
       "      <td>Angelo Branduardi</td>\n",
       "      <td>3qlU3Nyu3XXO2k9AUnTcy1</td>\n",
       "      <td>Highdown Fair (The Universal Music Collection)</td>\n",
       "      <td>30ECDbDHxrpPEYTKV53eNb</td>\n",
       "      <td>194960</td>\n",
       "      <td>2023-02-05T06:45:26Z</td>\n",
       "      <td>1978-01-01</td>\n",
       "      <td>https://i.scdn.co/image/ab67616d0000b273a88a9f...</td>\n",
       "      <td>https://open.spotify.com/track/7a2YahaJ1i604sm...</td>\n",
       "      <td>10</td>\n",
       "      <td>none</td>\n",
       "      <td>none</td>\n",
       "      <td>none</td>\n",
       "      <td>none</td>\n",
       "      <td>none</td>\n",
       "      <td>none</td>\n",
       "      <td>none</td>\n",
       "      <td>none</td>\n",
       "    </tr>\n",
       "    <tr>\n",
       "      <th>203</th>\n",
       "      <td>Part Three - Charleston</td>\n",
       "      <td>Mike Oldfield</td>\n",
       "      <td>562Od3CffWedyz2BbeYWVn</td>\n",
       "      <td>Platinum</td>\n",
       "      <td>2o6JBxKf6RpoWRchz1Tst8</td>\n",
       "      <td>196826</td>\n",
       "      <td>2023-04-04T14:58:06Z</td>\n",
       "      <td>1979</td>\n",
       "      <td>https://i.scdn.co/image/ab67616d0000b273cfaa94...</td>\n",
       "      <td>https://open.spotify.com/track/3UeaQx6iz0Ufld3...</td>\n",
       "      <td>11</td>\n",
       "      <td>none</td>\n",
       "      <td>none</td>\n",
       "      <td>none</td>\n",
       "      <td>none</td>\n",
       "      <td>none</td>\n",
       "      <td>none</td>\n",
       "      <td>none</td>\n",
       "      <td>none</td>\n",
       "    </tr>\n",
       "    <tr>\n",
       "      <th>137</th>\n",
       "      <td>'39 - Remastered 2011</td>\n",
       "      <td>Queen</td>\n",
       "      <td>1dfeR4HaWDbWqFHLkxsg1d</td>\n",
       "      <td>A Night At The Opera (2011 Remaster)</td>\n",
       "      <td>1GbtB4zTqAsyfZEsm1RZfx</td>\n",
       "      <td>210800</td>\n",
       "      <td>2023-03-17T13:05:27Z</td>\n",
       "      <td>1975-11-21</td>\n",
       "      <td>https://i.scdn.co/image/ab67616d0000b273e319ba...</td>\n",
       "      <td>https://open.spotify.com/track/6aNP9GlBi3VHPXl...</td>\n",
       "      <td>12</td>\n",
       "      <td>none</td>\n",
       "      <td>none</td>\n",
       "      <td>none</td>\n",
       "      <td>none</td>\n",
       "      <td>none</td>\n",
       "      <td>none</td>\n",
       "      <td>none</td>\n",
       "      <td>none</td>\n",
       "    </tr>\n",
       "    <tr>\n",
       "      <th>253</th>\n",
       "      <td>Fire and Rain</td>\n",
       "      <td>James Taylor</td>\n",
       "      <td>0vn7UBvSQECKJm2817Yf1P</td>\n",
       "      <td>Greatest Hits</td>\n",
       "      <td>2L4U4JjEADYaVltkvDrkCC</td>\n",
       "      <td>200579</td>\n",
       "      <td>2023-04-14T04:43:23Z</td>\n",
       "      <td>1976</td>\n",
       "      <td>https://i.scdn.co/image/ab67616d0000b27323ed6d...</td>\n",
       "      <td>https://open.spotify.com/track/1XUKItaRs2494Lc...</td>\n",
       "      <td>12</td>\n",
       "      <td>none</td>\n",
       "      <td>none</td>\n",
       "      <td>none</td>\n",
       "      <td>none</td>\n",
       "      <td>none</td>\n",
       "      <td>none</td>\n",
       "      <td>none</td>\n",
       "      <td>none</td>\n",
       "    </tr>\n",
       "  </tbody>\n",
       "</table>\n",
       "</div>"
      ],
      "text/plain": [
       "                                 song           artist_1   \n",
       "39   Where Do You Think You're Going?       Dire Straits  \\\n",
       "32                           The Stag  Angelo Branduardi   \n",
       "203           Part Three - Charleston      Mike Oldfield   \n",
       "137             '39 - Remastered 2011              Queen   \n",
       "253                     Fire and Rain       James Taylor   \n",
       "\n",
       "                artist_id_1                                           album   \n",
       "39   0WwSkZ7LtFUFjGjMZBMt6T                                      Communiqué  \\\n",
       "32   3qlU3Nyu3XXO2k9AUnTcy1  Highdown Fair (The Universal Music Collection)   \n",
       "203  562Od3CffWedyz2BbeYWVn                                        Platinum   \n",
       "137  1dfeR4HaWDbWqFHLkxsg1d            A Night At The Opera (2011 Remaster)   \n",
       "253  0vn7UBvSQECKJm2817Yf1P                                   Greatest Hits   \n",
       "\n",
       "                   album_id  duration                  date  date_album   \n",
       "39   2xQBCPq2gQ7l8thLUUZSKu    229640  2023-02-05T06:46:33Z  1979-06-15  \\\n",
       "32   30ECDbDHxrpPEYTKV53eNb    194960  2023-02-05T06:45:26Z  1978-01-01   \n",
       "203  2o6JBxKf6RpoWRchz1Tst8    196826  2023-04-04T14:58:06Z        1979   \n",
       "137  1GbtB4zTqAsyfZEsm1RZfx    210800  2023-03-17T13:05:27Z  1975-11-21   \n",
       "253  2L4U4JjEADYaVltkvDrkCC    200579  2023-04-14T04:43:23Z        1976   \n",
       "\n",
       "                                                imagen   \n",
       "39   https://i.scdn.co/image/ab67616d0000b2736b6f0a...  \\\n",
       "32   https://i.scdn.co/image/ab67616d0000b273a88a9f...   \n",
       "203  https://i.scdn.co/image/ab67616d0000b273cfaa94...   \n",
       "137  https://i.scdn.co/image/ab67616d0000b273e319ba...   \n",
       "253  https://i.scdn.co/image/ab67616d0000b27323ed6d...   \n",
       "\n",
       "                                              url_song  total_tracks artist_2   \n",
       "39   https://open.spotify.com/track/2kKNeapwCHUUvMh...             9     none  \\\n",
       "32   https://open.spotify.com/track/7a2YahaJ1i604sm...            10     none   \n",
       "203  https://open.spotify.com/track/3UeaQx6iz0Ufld3...            11     none   \n",
       "137  https://open.spotify.com/track/6aNP9GlBi3VHPXl...            12     none   \n",
       "253  https://open.spotify.com/track/1XUKItaRs2494Lc...            12     none   \n",
       "\n",
       "    artist_id_2 artist_3 artist_id_3 artist_4 artist_id_4 artist_5 artist_id_5  \n",
       "39         none     none        none     none        none     none        none  \n",
       "32         none     none        none     none        none     none        none  \n",
       "203        none     none        none     none        none     none        none  \n",
       "137        none     none        none     none        none     none        none  \n",
       "253        none     none        none     none        none     none        none  "
      ]
     },
     "execution_count": 49,
     "metadata": {},
     "output_type": "execute_result"
    }
   ],
   "source": [
    "df_songs = pd.DataFrame(basic_info)\n",
    "df_songs.sample(5)"
   ]
  },
  {
   "cell_type": "code",
   "execution_count": 50,
   "metadata": {},
   "outputs": [],
   "source": [
    "df_songs.to_csv(\"1960_1970_LPs.csv\", index=False)"
   ]
  }
 ],
 "metadata": {
  "kernelspec": {
   "display_name": "Python 3.9.7 ('base')",
   "language": "python",
   "name": "python3"
  },
  "language_info": {
   "codemirror_mode": {
    "name": "ipython",
    "version": 3
   },
   "file_extension": ".py",
   "mimetype": "text/x-python",
   "name": "python",
   "nbconvert_exporter": "python",
   "pygments_lexer": "ipython3",
   "version": "3.9.7"
  },
  "orig_nbformat": 4,
  "vscode": {
   "interpreter": {
    "hash": "651c3b7b3f466eb030aa737f279c846be4db9cba49a2f229278cab5e41121ed5"
   }
  }
 },
 "nbformat": 4,
 "nbformat_minor": 2
}

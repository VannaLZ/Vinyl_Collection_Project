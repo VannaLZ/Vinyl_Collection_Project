{
 "cells": [
  {
   "cell_type": "code",
   "execution_count": 1,
   "metadata": {},
   "outputs": [
    {
     "data": {
      "text/plain": [
       "True"
      ]
     },
     "execution_count": 1,
     "metadata": {},
     "output_type": "execute_result"
    }
   ],
   "source": [
    "import sys\n",
    "import spotipy\n",
    "from spotipy.oauth2 import SpotifyClientCredentials\n",
    "import pandas as pd\n",
    "import os\n",
    "from dotenv import load_dotenv\n",
    "load_dotenv()"
   ]
  },
  {
   "cell_type": "code",
   "execution_count": 2,
   "metadata": {},
   "outputs": [],
   "source": [
    "client_id = os.getenv(\"client_id\")\n",
    "client_secret = os.getenv(\"client_secret\")\n",
    "credentials = SpotifyClientCredentials(client_id=client_id, client_secret=client_secret)\n",
    "sp = spotipy.Spotify(client_credentials_manager=credentials)"
   ]
  },
  {
   "cell_type": "code",
   "execution_count": 3,
   "metadata": {},
   "outputs": [],
   "source": [
    "table = pd.read_csv('1990_LPs.csv')"
   ]
  },
  {
   "cell_type": "code",
   "execution_count": 4,
   "metadata": {},
   "outputs": [],
   "source": [
    "for index, row in table.iterrows():\n",
    "    # Get the album ID from the album_id column\n",
    "    album_id = row['album_id']\n",
    "    \n",
    "    # Retrieve the album information using the Spotify API\n",
    "    album = sp.album(album_id)\n",
    "    \n",
    "    # Extract the label and popularity from the album information\n",
    "    label = album['label']\n",
    "    popularity = album['popularity']\n",
    "    \n",
    "    # Store the label and popularity in the new columns in the table\n",
    "    table.at[index, 'label'] = label\n",
    "    table.at[index, 'popularity'] = popularity\n",
    "\n",
    "# Save the updated table to a new file\n",
    "table.to_csv('1990_LPs.csv', index=False)"
   ]
  },
  {
   "cell_type": "code",
   "execution_count": 5,
   "metadata": {},
   "outputs": [
    {
     "data": {
      "text/html": [
       "<div>\n",
       "<style scoped>\n",
       "    .dataframe tbody tr th:only-of-type {\n",
       "        vertical-align: middle;\n",
       "    }\n",
       "\n",
       "    .dataframe tbody tr th {\n",
       "        vertical-align: top;\n",
       "    }\n",
       "\n",
       "    .dataframe thead th {\n",
       "        text-align: right;\n",
       "    }\n",
       "</style>\n",
       "<table border=\"1\" class=\"dataframe\">\n",
       "  <thead>\n",
       "    <tr style=\"text-align: right;\">\n",
       "      <th></th>\n",
       "      <th>song</th>\n",
       "      <th>artist_1</th>\n",
       "      <th>artist_id_1</th>\n",
       "      <th>album</th>\n",
       "      <th>album_id</th>\n",
       "      <th>duration</th>\n",
       "      <th>date</th>\n",
       "      <th>date_album</th>\n",
       "      <th>imagen</th>\n",
       "      <th>url_song</th>\n",
       "      <th>...</th>\n",
       "      <th>artist_2</th>\n",
       "      <th>artist_id_2</th>\n",
       "      <th>artist_3</th>\n",
       "      <th>artist_id_3</th>\n",
       "      <th>artist_4</th>\n",
       "      <th>artist_id_4</th>\n",
       "      <th>artist_5</th>\n",
       "      <th>artist_id_5</th>\n",
       "      <th>label</th>\n",
       "      <th>popularity</th>\n",
       "    </tr>\n",
       "  </thead>\n",
       "  <tbody>\n",
       "    <tr>\n",
       "      <th>45</th>\n",
       "      <td>Altered State</td>\n",
       "      <td>Mike Oldfield</td>\n",
       "      <td>562Od3CffWedyz2BbeYWVn</td>\n",
       "      <td>Tubular Bells II</td>\n",
       "      <td>0Z9Uio2xZCDztGCuozTPaH</td>\n",
       "      <td>312466</td>\n",
       "      <td>2023-03-09T08:31:39Z</td>\n",
       "      <td>1992</td>\n",
       "      <td>https://i.scdn.co/image/ab67616d0000b27397c14c...</td>\n",
       "      <td>https://open.spotify.com/track/3hdCLdQ6G3r5ryj...</td>\n",
       "      <td>...</td>\n",
       "      <td>none</td>\n",
       "      <td>none</td>\n",
       "      <td>none</td>\n",
       "      <td>none</td>\n",
       "      <td>none</td>\n",
       "      <td>none</td>\n",
       "      <td>none</td>\n",
       "      <td>none</td>\n",
       "      <td>WM UK</td>\n",
       "      <td>45.0</td>\n",
       "    </tr>\n",
       "  </tbody>\n",
       "</table>\n",
       "<p>1 rows × 21 columns</p>\n",
       "</div>"
      ],
      "text/plain": [
       "             song       artist_1             artist_id_1             album   \n",
       "45  Altered State  Mike Oldfield  562Od3CffWedyz2BbeYWVn  Tubular Bells II  \\\n",
       "\n",
       "                  album_id  duration                  date date_album   \n",
       "45  0Z9Uio2xZCDztGCuozTPaH    312466  2023-03-09T08:31:39Z       1992  \\\n",
       "\n",
       "                                               imagen   \n",
       "45  https://i.scdn.co/image/ab67616d0000b27397c14c...  \\\n",
       "\n",
       "                                             url_song  ...  artist_2   \n",
       "45  https://open.spotify.com/track/3hdCLdQ6G3r5ryj...  ...      none  \\\n",
       "\n",
       "   artist_id_2 artist_3 artist_id_3 artist_4 artist_id_4 artist_5 artist_id_5   \n",
       "45        none     none        none     none        none     none        none  \\\n",
       "\n",
       "    label popularity  \n",
       "45  WM UK       45.0  \n",
       "\n",
       "[1 rows x 21 columns]"
      ]
     },
     "execution_count": 5,
     "metadata": {},
     "output_type": "execute_result"
    }
   ],
   "source": [
    "table = pd.read_csv('1990_LPs.csv')\n",
    "table.sample()"
   ]
  },
  {
   "cell_type": "code",
   "execution_count": null,
   "metadata": {},
   "outputs": [],
   "source": []
  }
 ],
 "metadata": {
  "kernelspec": {
   "display_name": "Python 3.9.7 ('base')",
   "language": "python",
   "name": "python3"
  },
  "language_info": {
   "codemirror_mode": {
    "name": "ipython",
    "version": 3
   },
   "file_extension": ".py",
   "mimetype": "text/x-python",
   "name": "python",
   "nbconvert_exporter": "python",
   "pygments_lexer": "ipython3",
   "version": "3.9.7"
  },
  "orig_nbformat": 4,
  "vscode": {
   "interpreter": {
    "hash": "651c3b7b3f466eb030aa737f279c846be4db9cba49a2f229278cab5e41121ed5"
   }
  }
 },
 "nbformat": 4,
 "nbformat_minor": 2
}
